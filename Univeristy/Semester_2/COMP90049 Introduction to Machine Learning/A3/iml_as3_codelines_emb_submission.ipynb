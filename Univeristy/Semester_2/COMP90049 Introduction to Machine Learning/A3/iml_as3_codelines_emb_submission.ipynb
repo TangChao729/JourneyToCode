{
 "cells": [
  {
   "cell_type": "code",
   "execution_count": 2,
   "metadata": {},
   "outputs": [],
   "source": [
    "import pandas as pd\n",
    "import numpy as np\n",
    "from sklearn.metrics import classification_report\n",
    "import matplotlib.pyplot as plt\n",
    "from sklearn.neighbors import KNeighborsClassifier\n",
    "from sklearn import preprocessing\n",
    "from sklearn.feature_selection import mutual_info_classif\n",
    "from sklearn.linear_model import LogisticRegression\n",
    "from sklearn.metrics import accuracy_score\n",
    "from sklearn.semi_supervised import SelfTrainingClassifier\n",
    "from sklearn.naive_bayes import GaussianNB\n",
    "from sklearn.metrics import f1_score\n",
    "from array import array\n",
    "from sklearn.cluster import KMeans\n",
    "from sklearn.metrics import precision_score\n",
    "import random\n",
    "from sklearn.neural_network import MLPClassifier"
   ]
  },
  {
   "cell_type": "markdown",
   "metadata": {},
   "source": [
    "## 1.0 Data preprocessing"
   ]
  },
  {
   "cell_type": "code",
   "execution_count": 38,
   "metadata": {},
   "outputs": [],
   "source": [
    "\"\"\"\n",
    "this part is preprocessing data from csv file\n",
    "\"\"\"\n",
    "# train dataset - used for model to train itself\n",
    "train_embedding = pd.read_csv('dataset/train_embedding.csv')\n",
    "train_embedding_comment = train_embedding.iloc[:,26:].values.tolist()\n",
    "train_embedding_toxicity = train_embedding['Toxicity'].values.tolist()\n",
    "\n",
    "x_train = train_embedding_comment\n",
    "y_train = train_embedding_toxicity\n",
    "\n",
    "# prediction dataset - used for model to make prediction and evaluate result\n",
    "dev_embedding = pd.read_csv('dataset/dev_embedding.csv')\n",
    "dev_embedding_comment = dev_embedding.iloc[:,26:].values.tolist()\n",
    "dev_embedding_toxicity = dev_embedding['Toxicity'].values.tolist()\n",
    "\n",
    "x_predict = dev_embedding_comment\n",
    "y_answer = dev_embedding_toxicity\n",
    "\n",
    "# identifier dataset - used for one-r baseline\n",
    "dev_embedding_identifier = dev_embedding.iloc[:,2:26].values.tolist()\n",
    "\n",
    "# unlabeled dataset - used for unsupervised learning model and semi-supervising learning model\n",
    "unlabeled_embedding = pd.read_csv('dataset/unlabeled_embedding.csv')\n",
    "unlabeled_embedding_comment = unlabeled_embedding.iloc[:,1:].values.tolist()\n",
    "\n",
    "# test dataset - used for producing kaggle competition result\n",
    "test_embedding = pd.read_csv('dataset/test_embedding.csv')\n",
    "test_embedding_comment = test_embedding.iloc[:,26:].values.tolist()"
   ]
  },
  {
   "cell_type": "code",
   "execution_count": 120,
   "metadata": {},
   "outputs": [
    {
     "data": {
      "text/plain": [
       "<AxesSubplot:>"
      ]
     },
     "execution_count": 120,
     "metadata": {},
     "output_type": "execute_result"
    },
    {
     "data": {
      "image/png": "[encoded data removed]",
      "text/plain": [
       "<Figure size 432x288 with 1 Axes>"
      ]
     },
     "metadata": {
      "needs_background": "light"
     },
     "output_type": "display_data"
    }
   ],
   "source": [
    "\"\"\"\n",
    "this part is to demonstrate the label distribution of toxic and non-toxic labels from training dataset\n",
    "\"\"\"\n",
    "\n",
    "train_embedding.loc[:,\"Toxicity\"].hist()"
   ]
  },
  {
   "cell_type": "code",
   "execution_count": 121,
   "metadata": {},
   "outputs": [
    {
     "data": {
      "text/plain": [
       "<AxesSubplot:>"
      ]
     },
     "execution_count": 121,
     "metadata": {},
     "output_type": "execute_result"
    },
    {
     "data": {
      "image/png": "[encoded data removed]",
      "text/plain": [
       "<Figure size 432x288 with 1 Axes>"
      ]
     },
     "metadata": {
      "needs_background": "light"
     },
     "output_type": "display_data"
    }
   ],
   "source": [
    "\"\"\"\n",
    "this part is to demonstrate the label distribution of toxic and non-toxic labels from prediction dataset\n",
    "\"\"\"\n",
    "\n",
    "dev_embedding.loc[:,\"Toxicity\"].hist()"
   ]
  },
  {
   "cell_type": "markdown",
   "metadata": {},
   "source": [
    "## 2.0 One-r baseline model"
   ]
  },
  {
   "cell_type": "code",
   "execution_count": 14,
   "metadata": {},
   "outputs": [
    {
     "name": "stdout",
     "output_type": "stream",
     "text": [
      "max pres: 0.35058922558922556 3\n",
      "max accu: 0.7636666666666667 3\n",
      "Best identifier: Black\n"
     ]
    },
    {
     "name": "stderr",
     "output_type": "stream",
     "text": [
      "/opt/homebrew/anaconda3/lib/python3.9/site-packages/sklearn/metrics/_classification.py:1318: UndefinedMetricWarning: Precision is ill-defined and being set to 0.0 due to no predicted samples. Use `zero_division` parameter to control this behavior.\n",
      "  _warn_prf(average, modifier, msg_start, len(result))\n"
     ]
    }
   ],
   "source": [
    "\"\"\"\n",
    "One-r baseline section\n",
    "This implementation iterates through each identifier, use the idf as the guide to predict the result\n",
    "\"\"\"\n",
    "\n",
    "accu_scores = []\n",
    "pres_scores = []\n",
    "for i in range(len(dev_embedding_identifier[0])):\n",
    "    testline = []\n",
    "    for j in range(len(dev_embedding_identifier)):\n",
    "        testline.append(dev_embedding_identifier[j][i])\n",
    "    t_arr = np.array(testline)\n",
    "    a = accuracy_score(y_answer, t_arr)\n",
    "    p = precision_score(y_answer, t_arr, pos_label=1)\n",
    "    accu_scores.append(a)\n",
    "    pres_scores.append(p)\n",
    "\n",
    "\n",
    "max = 0\n",
    "idx = 0\n",
    "for i in range(len(pres_scores)):\n",
    "    if pres_scores[i] > max:\n",
    "        max = pres_scores[i]\n",
    "        idx = i\n",
    "\n",
    "print(\"max pres:\", pres_scores[idx], idx)\n",
    "print(\"max accu:\", accu_scores[idx], idx)\n",
    "print(\"Best identifier:\", list(dev_embedding.columns)[idx+2])"
   ]
  },
  {
   "cell_type": "code",
   "execution_count": 16,
   "metadata": {},
   "outputs": [
    {
     "name": "stdout",
     "output_type": "stream",
     "text": [
      "pres: 0.15916955017301038 0\n",
      "accu: 0.7978666666666666 0\n",
      "identifier: Asian\n",
      "pres: 0.13291139240506328 1\n",
      "accu: 0.8032666666666667 1\n",
      "identifier: Atheist\n",
      "pres: 0.20689655172413793 2\n",
      "accu: 0.8098666666666666 2\n",
      "identifier: Bisexual\n",
      "pres: 0.35058922558922556 3\n",
      "accu: 0.7636666666666667 3\n",
      "identifier: Black\n",
      "pres: 0.12244897959183673 4\n",
      "accu: 0.8085333333333333 4\n",
      "identifier: Buddhist\n",
      "pres: 0.09638932496075353 5\n",
      "accu: 0.6396 5\n",
      "identifier: Christian\n",
      "pres: 0.14913999564554759 6\n",
      "accu: 0.5961333333333333 6\n",
      "identifier: Female\n",
      "pres: 0.18666666666666668 7\n",
      "accu: 0.8047333333333333 7\n",
      "identifier: Heterosexual\n",
      "pres: 0.0425531914893617 8\n",
      "accu: 0.8081333333333334 8\n",
      "identifier: Hindu\n",
      "pres: 0.26672950047125354 9\n",
      "accu: 0.778 9\n",
      "identifier: Homosexual gay or lesbian\n",
      "pres: 0.0 10\n",
      "accu: 0.8105333333333333 10\n",
      "identifier: Intellectual or learning disability\n",
      "pres: 0.17381974248927037 11\n",
      "accu: 0.7907333333333333 11\n",
      "identifier: Jewish\n",
      "pres: 0.21686746987951808 12\n",
      "accu: 0.8047333333333333 12\n",
      "identifier: Latino\n",
      "pres: 0.1687883074021688 13\n",
      "accu: 0.6236666666666667 13\n",
      "identifier: Male\n",
      "pres: 0.25406871609403253 14\n",
      "accu: 0.7747333333333334 14\n",
      "identifier: Muslim\n",
      "pres: 0.0 15\n",
      "accu: 0.811 15\n",
      "identifier: Other disability\n",
      "pres: 0.0 16\n",
      "accu: 0.8109333333333333 16\n",
      "identifier: Other gender\n",
      "pres: 0.22857142857142856 17\n",
      "accu: 0.8097333333333333 17\n",
      "identifier: Other race or ethnicity\n",
      "pres: 0.2222222222222222 18\n",
      "accu: 0.8103333333333333 18\n",
      "identifier: Other religion\n",
      "pres: 0.0 19\n",
      "accu: 0.8108666666666666 19\n",
      "identifier: Other sexual orientation\n",
      "pres: 0.1111111111111111 20\n",
      "accu: 0.8105333333333333 20\n",
      "identifier: Physical disability\n",
      "pres: 0.21398305084745764 21\n",
      "accu: 0.793 21\n",
      "identifier: Psychiatric or mental illness\n",
      "pres: 0.2356687898089172 22\n",
      "accu: 0.8054666666666667 22\n",
      "identifier: Transgender\n",
      "pres: 0.3054649265905383 23\n",
      "accu: 0.7474 23\n",
      "identifier: White\n"
     ]
    }
   ],
   "source": [
    "\"\"\"\n",
    "Full results\n",
    "\"\"\"\n",
    "\n",
    "for i in range(len(pres_scores)):\n",
    "    print(\"pres:\", pres_scores[i], i)\n",
    "    print(\"accu:\", accu_scores[i], i)\n",
    "    print(\"identifier:\", list(dev_embedding.columns)[i+2])   "
   ]
  },
  {
   "cell_type": "markdown",
   "metadata": {},
   "source": [
    "## 2.2.1 Naive Bayes"
   ]
  },
  {
   "cell_type": "code",
   "execution_count": 36,
   "metadata": {},
   "outputs": [
    {
     "name": "stdout",
     "output_type": "stream",
     "text": [
      "Fitting 5 folds for each of 100 candidates, totalling 500 fits\n"
     ]
    }
   ],
   "source": [
    "\"\"\"\n",
    "Preliminarily check naive bayes's performance against prediction dataset\n",
    "\"\"\"\n",
    "\n",
    "# param tunining\n",
    "from sklearn.model_selection import GridSearchCV\n",
    "\n",
    "nb_classifier = GaussianNB()\n",
    "params_NB = {'var_smoothing': np.logspace(0,-9, num=100)}\n",
    "gs_NB = GridSearchCV(estimator=nb_classifier, param_grid=params_NB, verbose=1, scoring='precision')\n",
    "gs_NB.fit(x_train, y_train)\n",
    "best_var = gs_NB.best_params_"
   ]
  },
  {
   "cell_type": "code",
   "execution_count": 42,
   "metadata": {},
   "outputs": [
    {
     "name": "stdout",
     "output_type": "stream",
     "text": [
      "{'var_smoothing': 0.0002310129700083158}\n"
     ]
    }
   ],
   "source": [
    "print(best_var)"
   ]
  },
  {
   "cell_type": "code",
   "execution_count": 44,
   "metadata": {},
   "outputs": [],
   "source": [
    "# model with best var smoothing val\n",
    "gnb = GaussianNB(var_smoothing=0.0002310129700083158)\n",
    "gnb.fit(x_train, y_train)\n",
    "pred = gnb.predict(x_predict)"
   ]
  },
  {
   "cell_type": "code",
   "execution_count": 46,
   "metadata": {},
   "outputs": [
    {
     "name": "stdout",
     "output_type": "stream",
     "text": [
      "GNB               precision    recall  f1-score   support\n",
      "\n",
      "           0     0.9045    0.6817    0.7774     12165\n",
      "           1     0.3360    0.6910    0.4521      2835\n",
      "\n",
      "    accuracy                         0.6835     15000\n",
      "   macro avg     0.6202    0.6864    0.6148     15000\n",
      "weighted avg     0.7970    0.6835    0.7160     15000\n",
      "\n"
     ]
    }
   ],
   "source": [
    "print(\"GNB\", classification_report(y_answer, pred, digits=4))"
   ]
  },
  {
   "cell_type": "markdown",
   "metadata": {},
   "source": [
    "## 2.2.2 Logistic regression"
   ]
  },
  {
   "cell_type": "code",
   "execution_count": 31,
   "metadata": {},
   "outputs": [
    {
     "name": "stderr",
     "output_type": "stream",
     "text": [
      "/opt/homebrew/anaconda3/lib/python3.9/site-packages/sklearn/metrics/_classification.py:1318: UndefinedMetricWarning: Precision is ill-defined and being set to 0.0 due to no predicted samples. Use `zero_division` parameter to control this behavior.\n",
      "  _warn_prf(average, modifier, msg_start, len(result))\n"
     ]
    },
    {
     "name": "stdout",
     "output_type": "stream",
     "text": [
      "0.01\n"
     ]
    }
   ],
   "source": [
    "\"\"\"\n",
    "Preliminarily check naive bayes's performance against prediction dataset\n",
    "\"\"\"\n",
    "\n",
    "# logistic regression with pre defined c_vals\n",
    "\n",
    "# c_values = [0.001]\n",
    "c_values = [0.001, 0.01, 0.1, 1, 10, 100, 1000]\n",
    "\n",
    "accuracy_list = []\n",
    "precision_list = []\n",
    "\n",
    "curr_max = 0\n",
    "best_c_val = 0\n",
    "\n",
    "for c_val in c_values:\n",
    "    lrclf = LogisticRegression(penalty='l1', solver='liblinear', C = c_val)\n",
    "    lrclf.fit(x_train, y_train)\n",
    "    pred = lrclf.predict(x_predict)\n",
    "    accu_score = accuracy_score(y_answer, pred)\n",
    "    pres_score = precision_score(y_answer, pred)\n",
    "\n",
    "    accuracy_list.append(accu_score)\n",
    "    precision_list.append(pres_score)\n",
    "\n",
    "    if pres_score > curr_max:\n",
    "        curr_max = pres_score\n",
    "        best_c_val = c_val\n",
    "\n",
    "print(best_c_val)\n",
    "        "
   ]
  },
  {
   "cell_type": "code",
   "execution_count": 34,
   "metadata": {},
   "outputs": [
    {
     "name": "stdout",
     "output_type": "stream",
     "text": [
      "LogisticRegression               precision    recall  f1-score   support\n",
      "\n",
      "           0     0.8139    0.9989    0.8970     12165\n",
      "           1     0.8143    0.0201    0.0392      2835\n",
      "\n",
      "    accuracy                         0.8139     15000\n",
      "   macro avg     0.8141    0.5095    0.4681     15000\n",
      "weighted avg     0.8140    0.8139    0.7349     15000\n",
      "\n"
     ]
    }
   ],
   "source": [
    "# after obtain best c val, set up a new model and do classification report\n",
    "lrclf = LogisticRegression(penalty='l1', solver='liblinear', C = 0.01)\n",
    "lrclf.fit(x_train, y_train)\n",
    "pred = lrclf.predict(x_predict)\n",
    "\n",
    "print(\"LogisticRegression\", classification_report(y_answer, pred, digits=4))"
   ]
  },
  {
   "cell_type": "markdown",
   "metadata": {},
   "source": [
    "## 2.2.3 Neural network"
   ]
  },
  {
   "cell_type": "code",
   "execution_count": null,
   "metadata": {},
   "outputs": [],
   "source": [
    "\"\"\"\n",
    "Preliminarily check neural network's performance against prediction dataset\n",
    "\"\"\"\n",
    "\n",
    "mlpclf = MLPClassifier(random_state=1, max_iter=300).fit(x_train, y_train)\n",
    "pred = mlpclf.predict(x_predict)"
   ]
  },
  {
   "cell_type": "code",
   "execution_count": null,
   "metadata": {},
   "outputs": [
    {
     "name": "stdout",
     "output_type": "stream",
     "text": [
      "              precision    recall  f1-score   support\n",
      "\n",
      "           0       0.86      0.88      0.87     12165\n",
      "           1       0.43      0.40      0.41      2835\n",
      "\n",
      "    accuracy                           0.79     15000\n",
      "   macro avg       0.65      0.64      0.64     15000\n",
      "weighted avg       0.78      0.79      0.78     15000\n",
      "\n"
     ]
    }
   ],
   "source": [
    "print(classification_report(y_answer,pred))"
   ]
  },
  {
   "cell_type": "markdown",
   "metadata": {},
   "source": [
    "## 3.0 Logistic regression semi-supervised"
   ]
  },
  {
   "cell_type": "code",
   "execution_count": 55,
   "metadata": {},
   "outputs": [],
   "source": [
    "\"\"\"\n",
    "After comparing supervised learning models, choose Logistic Regression as the base model for semi-supervised learning\n",
    "\"\"\"\n",
    "\n",
    "base = LogisticRegression(penalty='l1', solver='liblinear', C = 0.01)"
   ]
  },
  {
   "cell_type": "code",
   "execution_count": 86,
   "metadata": {},
   "outputs": [],
   "source": [
    "def semi_super_lr(x_train,y_train):\n",
    "    stclf = SelfTrainingClassifier(base)\n",
    "    stclf.fit(x_train,y_train)\n",
    "    pred = stclf.predict(x_predict)\n",
    "    accu = accuracy_score(y_answer,pred)\n",
    "    prec = precision_score(y_answer,pred,pos_label = 1)\n",
    "    return accu,prec"
   ]
  },
  {
   "cell_type": "code",
   "execution_count": 51,
   "metadata": {},
   "outputs": [],
   "source": [
    "unlabeled_embedding_comment_df = pd.DataFrame(unlabeled_embedding_comment)"
   ]
  },
  {
   "cell_type": "code",
   "execution_count": 89,
   "metadata": {},
   "outputs": [],
   "source": [
    "\"\"\"\n",
    "Designing a test to gradually feed unlabelled data to semi-super model, to find out the effectiveness\n",
    "\"\"\"\n",
    "\n",
    "def run_semi_super_lr():\n",
    "    unlabeled_data_amount = []\n",
    "    accu_log = []\n",
    "    prec_log = []\n",
    "\n",
    "    data_fractions = [0.001, 0.01, 0.1, 0.2, 0.5, 1]\n",
    "\n",
    "    for a_fraction in data_fractions:\n",
    "\n",
    "        x_train_unlabel = unlabeled_embedding_comment_df.sample(frac=a_fraction, random_state = 1)\n",
    "        y_train_unlabel = []\n",
    "        frac_size = 200000*a_fraction\n",
    "        for i in range(int(frac_size)):\n",
    "            y_train_unlabel.append(-1)\n",
    "\n",
    "        # combine lablelled x with unlabelled x\n",
    "        x_train_df = pd.DataFrame(x_train)\n",
    "        x_train_cb = pd.concat([x_train_df, x_train_unlabel]).reset_index(drop = True)\n",
    "\n",
    "        # combine lablelled y with unlabelled y\n",
    "        y_train_df = pd.DataFrame(y_train)\n",
    "        y_train_unlabel = pd.DataFrame(y_train_unlabel)\n",
    "        y_train_cb = pd.concat([y_train_df, y_train_unlabel]).reset_index(drop = True)\n",
    "\n",
    "        accu, prec = semi_super_lr(x_train_cb, y_train_cb)\n",
    "        unlabeled_data_amount.append(frac_size)\n",
    "        accu_log.append(accu)\n",
    "        prec_log.append(prec)\n",
    "    \n",
    "    return unlabeled_data_amount, accu_log, prec_log"
   ]
  },
  {
   "cell_type": "code",
   "execution_count": 90,
   "metadata": {},
   "outputs": [
    {
     "name": "stderr",
     "output_type": "stream",
     "text": [
      "/opt/homebrew/anaconda3/lib/python3.9/site-packages/sklearn/utils/validation.py:993: DataConversionWarning: A column-vector y was passed when a 1d array was expected. Please change the shape of y to (n_samples, ), for example using ravel().\n",
      "  y = column_or_1d(y, warn=True)\n",
      "/opt/homebrew/anaconda3/lib/python3.9/site-packages/sklearn/utils/validation.py:993: DataConversionWarning: A column-vector y was passed when a 1d array was expected. Please change the shape of y to (n_samples, ), for example using ravel().\n",
      "  y = column_or_1d(y, warn=True)\n",
      "/opt/homebrew/anaconda3/lib/python3.9/site-packages/sklearn/utils/validation.py:993: DataConversionWarning: A column-vector y was passed when a 1d array was expected. Please change the shape of y to (n_samples, ), for example using ravel().\n",
      "  y = column_or_1d(y, warn=True)\n",
      "/opt/homebrew/anaconda3/lib/python3.9/site-packages/sklearn/utils/validation.py:993: DataConversionWarning: A column-vector y was passed when a 1d array was expected. Please change the shape of y to (n_samples, ), for example using ravel().\n",
      "  y = column_or_1d(y, warn=True)\n",
      "/opt/homebrew/anaconda3/lib/python3.9/site-packages/sklearn/utils/validation.py:993: DataConversionWarning: A column-vector y was passed when a 1d array was expected. Please change the shape of y to (n_samples, ), for example using ravel().\n",
      "  y = column_or_1d(y, warn=True)\n",
      "/opt/homebrew/anaconda3/lib/python3.9/site-packages/sklearn/utils/validation.py:993: DataConversionWarning: A column-vector y was passed when a 1d array was expected. Please change the shape of y to (n_samples, ), for example using ravel().\n",
      "  y = column_or_1d(y, warn=True)\n"
     ]
    }
   ],
   "source": [
    "unlabeled_data_amount, accu_log, prec_log = run_semi_super_lr()"
   ]
  },
  {
   "cell_type": "code",
   "execution_count": 92,
   "metadata": {},
   "outputs": [
    {
     "data": {
      "text/plain": [
       "[200.0, 2000.0, 20000.0, 40000.0, 100000.0, 200000]"
      ]
     },
     "execution_count": 92,
     "metadata": {},
     "output_type": "execute_result"
    }
   ],
   "source": [
    "unlabeled_data_amount"
   ]
  },
  {
   "cell_type": "code",
   "execution_count": 93,
   "metadata": {},
   "outputs": [
    {
     "data": {
      "text/plain": [
       "[0.8139333333333333,\n",
       " 0.8137333333333333,\n",
       " 0.8137333333333333,\n",
       " 0.8132,\n",
       " 0.8131333333333334,\n",
       " 0.8130666666666667]"
      ]
     },
     "execution_count": 93,
     "metadata": {},
     "output_type": "execute_result"
    }
   ],
   "source": [
    "accu_log"
   ]
  },
  {
   "cell_type": "code",
   "execution_count": 94,
   "metadata": {},
   "outputs": [
    {
     "data": {
      "text/plain": [
       "[0.8142857142857143,\n",
       " 0.8059701492537313,\n",
       " 0.8253968253968254,\n",
       " 0.7619047619047619,\n",
       " 0.7105263157894737,\n",
       " 0.7012987012987013]"
      ]
     },
     "execution_count": 94,
     "metadata": {},
     "output_type": "execute_result"
    }
   ],
   "source": [
    "prec_log"
   ]
  },
  {
   "cell_type": "code",
   "execution_count": 99,
   "metadata": {},
   "outputs": [
    {
     "data": {
      "image/png": "[encoded data removed]",
      "text/plain": [
       "<Figure size 432x288 with 1 Axes>"
      ]
     },
     "metadata": {
      "needs_background": "light"
     },
     "output_type": "display_data"
    }
   ],
   "source": [
    "plt.plot(unlabeled_data_amount, accu_log)\n",
    "plt.xlabel(\"Size of unlabeled data\")\n",
    "plt.ylabel(\"Accuracy\")\n",
    "plt.title(\"Logistic Regression accuracy changes with unlabeled data\")\n",
    "plt.show()"
   ]
  },
  {
   "cell_type": "code",
   "execution_count": 102,
   "metadata": {},
   "outputs": [
    {
     "data": {
      "image/png": "[encoded data removed]",
      "text/plain": [
       "<Figure size 432x288 with 1 Axes>"
      ]
     },
     "metadata": {
      "needs_background": "light"
     },
     "output_type": "display_data"
    }
   ],
   "source": [
    "plt.plot(unlabeled_data_amount, prec_log)\n",
    "plt.xlabel(\"Size of unlabeled data\")\n",
    "plt.ylabel(\"Precision\")\n",
    "plt.title(\"Precision rate changes with unlabeled data amount\")\n",
    "plt.show()"
   ]
  },
  {
   "cell_type": "code",
   "execution_count": null,
   "metadata": {},
   "outputs": [],
   "source": [
    "\"\"\"\n",
    "To generate classification_report when unlabelled data amount is 20,000\n",
    "\"\"\"\n",
    "x_train_unlabel = unlabeled_embedding_comment_df.sample(frac=0.1, random_state = 1)\n",
    "y_train_unlabel = []\n",
    "frac_size = 20000\n",
    "for i in range(int(frac_size)):\n",
    "    y_train_unlabel.append(-1)\n",
    "\n",
    "# combine lablelled x with unlabelled x\n",
    "x_train_df = pd.DataFrame(x_train)\n",
    "x_train_cb = pd.concat([x_train_df, x_train_unlabel]).reset_index(drop = True)\n",
    "\n",
    "# combine lablelled y with unlabelled y\n",
    "y_train_df = pd.DataFrame(y_train)\n",
    "y_train_unlabel = pd.DataFrame(y_train_unlabel)\n",
    "y_train_cb = pd.concat([y_train_df, y_train_unlabel]).reset_index(drop = True)\n",
    "\n",
    "base = LogisticRegression(penalty='l1', solver='liblinear', C = 0.01)\n",
    "stclf = SelfTrainingClassifier(base)\n",
    "stclf.fit(x_train_cb,y_train_cb)\n",
    "pred = stclf.predict(x_predict)"
   ]
  },
  {
   "cell_type": "code",
   "execution_count": 101,
   "metadata": {},
   "outputs": [
    {
     "name": "stdout",
     "output_type": "stream",
     "text": [
      "              precision    recall  f1-score   support\n",
      "\n",
      "           0     0.8137    0.9991    0.8969     12165\n",
      "           1     0.8254    0.0183    0.0359      2835\n",
      "\n",
      "    accuracy                         0.8137     15000\n",
      "   macro avg     0.8195    0.5087    0.4664     15000\n",
      "weighted avg     0.8159    0.8137    0.7342     15000\n",
      "\n"
     ]
    }
   ],
   "source": [
    "print(classification_report(y_answer,pred,digits=4))"
   ]
  },
  {
   "cell_type": "markdown",
   "metadata": {},
   "source": [
    "## 4.0 K Means"
   ]
  },
  {
   "cell_type": "code",
   "execution_count": 47,
   "metadata": {},
   "outputs": [],
   "source": [
    "\"\"\"\n",
    "Preliminarily check k means's performance against prediction dataset\n",
    "\"\"\"\n",
    "\n",
    "km = KMeans(n_clusters=2, n_init=10, random_state=0).fit(x_train)\n",
    "pred = km.predict(x_predict)\n"
   ]
  },
  {
   "cell_type": "code",
   "execution_count": 48,
   "metadata": {},
   "outputs": [
    {
     "name": "stdout",
     "output_type": "stream",
     "text": [
      "              precision    recall  f1-score   support\n",
      "\n",
      "           0     0.7762    0.7117    0.7425     12165\n",
      "           1     0.0879    0.1192    0.1012      2835\n",
      "\n",
      "    accuracy                         0.5997     15000\n",
      "   macro avg     0.4320    0.4155    0.4219     15000\n",
      "weighted avg     0.6461    0.5997    0.6213     15000\n",
      "\n"
     ]
    }
   ],
   "source": [
    "print(classification_report(y_answer,pred, digits=4))"
   ]
  }
 ],
 "metadata": {
  "kernelspec": {
   "display_name": "Python 3.9.12 ('base')",
   "language": "python",
   "name": "python3"
  },
  "language_info": {
   "codemirror_mode": {
    "name": "ipython",
    "version": 3
   },
   "file_extension": ".py",
   "mimetype": "text/x-python",
   "name": "python",
   "nbconvert_exporter": "python",
   "pygments_lexer": "ipython3",
   "version": "3.9.12"
  },
  "orig_nbformat": 4,
  "vscode": {
   "interpreter": {
    "hash": "38cca0c38332a56087b24af0bc80247f4fced29cb4f7f437d91dc159adec9c4e"
   }
  }
 },
 "nbformat": 4,
 "nbformat_minor": 2
}
