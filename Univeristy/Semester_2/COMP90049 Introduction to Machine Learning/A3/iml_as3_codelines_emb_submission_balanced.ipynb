{
 "cells": [
  {
   "cell_type": "code",
   "execution_count": 3,
   "metadata": {},
   "outputs": [],
   "source": [
    "import pandas as pd\n",
    "from sklearn.metrics import classification_report\n",
    "from sklearn.neighbors import KNeighborsClassifier\n",
    "from sklearn import preprocessing\n",
    "from sklearn.feature_selection import mutual_info_classif\n",
    "from sklearn.linear_model import LogisticRegression\n",
    "from sklearn.metrics import accuracy_score\n",
    "from sklearn.semi_supervised import SelfTrainingClassifier\n",
    "from sklearn.metrics import f1_score\n",
    "from array import array\n",
    "from sklearn.metrics import precision_score\n",
    "import random\n",
    "from matplotlib import pyplot as plt"
   ]
  },
  {
   "cell_type": "markdown",
   "metadata": {},
   "source": [
    "## Data preprocessing"
   ]
  },
  {
   "cell_type": "code",
   "execution_count": 4,
   "metadata": {},
   "outputs": [],
   "source": [
    "\"\"\"\n",
    "this part is preprocessing data from csv file\n",
    "\"\"\"\n",
    "# train dataset - used for model to train itself\n",
    "train_embedding = pd.read_csv('dataset/train_embedding.csv', sep=',', dtype=str).astype('float64').sort_values('Toxicity').iloc[-44972:, :]\n",
    "train_embedding_comment = train_embedding.iloc[:,26:].values.tolist()\n",
    "train_embedding_toxicity = train_embedding['Toxicity'].astype('int32').tolist()\n",
    "\n",
    "x_train = train_embedding_comment\n",
    "y_train = train_embedding_toxicity\n",
    "\n",
    "# prediction dataset - used for model to make prediction and evaluate result\n",
    "dev_embedding = pd.read_csv('dataset/dev_embedding.csv', sep=',', dtype=str).astype('float64').sort_values('Toxicity').iloc[-5670:, :]\n",
    "dev_embedding_comment = dev_embedding.iloc[:,26:].values.tolist()\n",
    "dev_embedding_toxicity = dev_embedding['Toxicity'].astype('int32').tolist()\n",
    "\n",
    "x_predict = dev_embedding_comment\n",
    "y_answer = dev_embedding_toxicity\n",
    "\n",
    "# identifier dataset - used for one-r baseline\n",
    "dev_embedding_identifier = dev_embedding.iloc[:,2:26].values.tolist()\n",
    "\n",
    "# unlabeled dataset - used for unsupervised learning model and semi-supervising learning model\n",
    "unlabeled_embedding = pd.read_csv('dataset/unlabeled_embedding.csv')\n",
    "unlabeled_embedding_comment = unlabeled_embedding.iloc[:,1:].values.tolist()\n",
    "\n",
    "# test dataset - used for producing kaggle competition result\n",
    "test_embedding = pd.read_csv('dataset/test_embedding.csv')\n",
    "test_embedding_comment = test_embedding.iloc[:,26:].values.tolist()"
   ]
  },
  {
   "cell_type": "code",
   "execution_count": 5,
   "metadata": {},
   "outputs": [
    {
     "data": {
      "text/plain": [
       "0.0    22486\n",
       "1.0    22486\n",
       "Name: Toxicity, dtype: int64"
      ]
     },
     "execution_count": 5,
     "metadata": {},
     "output_type": "execute_result"
    }
   ],
   "source": [
    "\"\"\"\n",
    "this part is to demonstrate the label distribution of toxic and non-toxic labels from training dataset\n",
    "\"\"\"\n",
    "\n",
    "train_embedding.loc[:,\"Toxicity\"].value_counts()"
   ]
  },
  {
   "cell_type": "code",
   "execution_count": 6,
   "metadata": {},
   "outputs": [
    {
     "data": {
      "text/plain": [
       "0.0    2835\n",
       "1.0    2835\n",
       "Name: Toxicity, dtype: int64"
      ]
     },
     "execution_count": 6,
     "metadata": {},
     "output_type": "execute_result"
    }
   ],
   "source": [
    "\"\"\"\n",
    "this part is to demonstrate the label distribution of toxic and non-toxic labels from prediction dataset\n",
    "\"\"\"\n",
    "\n",
    "dev_embedding.loc[:,\"Toxicity\"].value_counts()"
   ]
  },
  {
   "cell_type": "markdown",
   "metadata": {},
   "source": [
    "## Logistic regression"
   ]
  },
  {
   "cell_type": "code",
   "execution_count": 8,
   "metadata": {},
   "outputs": [
    {
     "name": "stderr",
     "output_type": "stream",
     "text": [
      "/opt/homebrew/anaconda3/lib/python3.9/site-packages/sklearn/metrics/_classification.py:1318: UndefinedMetricWarning: Precision is ill-defined and being set to 0.0 due to no predicted samples. Use `zero_division` parameter to control this behavior.\n",
      "  _warn_prf(average, modifier, msg_start, len(result))\n"
     ]
    },
    {
     "name": "stdout",
     "output_type": "stream",
     "text": [
      "1\n"
     ]
    }
   ],
   "source": [
    "\"\"\"\n",
    "Preliminarily check naive bayes's performance against prediction dataset\n",
    "\"\"\"\n",
    "\n",
    "# logistic regression with pre defined c_vals\n",
    "\n",
    "# c_values = [0.001]\n",
    "c_values = [0.001, 0.01, 0.1, 1, 10, 100, 1000]\n",
    "\n",
    "accuracy_list = []\n",
    "precision_list = []\n",
    "\n",
    "curr_max = 0\n",
    "best_c_val = 0\n",
    "\n",
    "for c_val in c_values:\n",
    "    lrclf = LogisticRegression(penalty='l1', solver='liblinear', C = c_val)\n",
    "    lrclf.fit(x_train, y_train)\n",
    "    pred = lrclf.predict(x_predict)\n",
    "    accu_score = accuracy_score(y_answer, pred)\n",
    "    pres_score = precision_score(y_answer, pred)\n",
    "\n",
    "    accuracy_list.append(accu_score)\n",
    "    precision_list.append(pres_score)\n",
    "\n",
    "    if pres_score > curr_max:\n",
    "        curr_max = pres_score\n",
    "        best_c_val = c_val\n",
    "\n",
    "print(best_c_val)\n",
    "        "
   ]
  },
  {
   "cell_type": "code",
   "execution_count": 10,
   "metadata": {},
   "outputs": [
    {
     "name": "stdout",
     "output_type": "stream",
     "text": [
      "LogisticRegression               precision    recall  f1-score   support\n",
      "\n",
      "           0     0.7608    0.6586    0.7060      2835\n",
      "           1     0.6990    0.7929    0.7430      2835\n",
      "\n",
      "    accuracy                         0.7257      5670\n",
      "   macro avg     0.7299    0.7257    0.7245      5670\n",
      "weighted avg     0.7299    0.7257    0.7245      5670\n",
      "\n"
     ]
    }
   ],
   "source": [
    "# after obtain best c val, set up a new model and do classification report\n",
    "lrclf = LogisticRegression(penalty='l1', solver='liblinear', C = 0.01)\n",
    "lrclf.fit(x_train, y_train)\n",
    "pred = lrclf.predict(x_predict)\n",
    "\n",
    "print(\"LogisticRegression\", classification_report(y_answer, pred, digits=4))"
   ]
  },
  {
   "cell_type": "code",
   "execution_count": 11,
   "metadata": {},
   "outputs": [],
   "source": [
    "kaggle_predict = lr.predict(test_embedding_comment)\n",
    "kaggle_predict_df = pd.DataFrame(kaggle_predict)\n",
    "kaggle_predict_df.to_csv(\"50-50_LR_tuned_kaggle.csv\")"
   ]
  },
  {
   "cell_type": "markdown",
   "metadata": {},
   "source": [
    "## Logistic regression semi-supervised"
   ]
  },
  {
   "cell_type": "code",
   "execution_count": 12,
   "metadata": {},
   "outputs": [],
   "source": [
    "\"\"\"\n",
    "After comparing supervised learning models, choose Logistic Regression as the base model for semi-supervised learning\n",
    "\"\"\"\n",
    "\n",
    "base = LogisticRegression(penalty='l1', solver='liblinear', C = 1, max_iter=500)"
   ]
  },
  {
   "cell_type": "code",
   "execution_count": 13,
   "metadata": {},
   "outputs": [],
   "source": [
    "def semi_super_lr(x_train,y_train):\n",
    "    stclf = SelfTrainingClassifier(base)\n",
    "    stclf.fit(x_train,y_train)\n",
    "    pred = stclf.predict(x_predict)\n",
    "    accu = accuracy_score(y_answer,pred)\n",
    "    prec = precision_score(y_answer,pred,pos_label = 1)\n",
    "    return accu,prec"
   ]
  },
  {
   "cell_type": "code",
   "execution_count": 14,
   "metadata": {},
   "outputs": [],
   "source": [
    "unlabeled_embedding_comment_df = pd.DataFrame(unlabeled_embedding_comment)"
   ]
  },
  {
   "cell_type": "code",
   "execution_count": 15,
   "metadata": {},
   "outputs": [],
   "source": [
    "\"\"\"\n",
    "Designing a test to gradually feed unlabelled data to semi-super model, to find out the effectiveness\n",
    "\"\"\"\n",
    "\n",
    "def run_semi_super_lr():\n",
    "    unlabeled_data_amount = []\n",
    "    accu_log = []\n",
    "    prec_log = []\n",
    "\n",
    "    data_fractions = [0.001, 0.01, 0.1, 0.2, 0.5, 1]\n",
    "\n",
    "    for a_fraction in data_fractions:\n",
    "\n",
    "        x_train_unlabel = unlabeled_embedding_comment_df.sample(frac=a_fraction, random_state = 1)\n",
    "        y_train_unlabel = []\n",
    "        frac_size = 200000*a_fraction\n",
    "        for i in range(int(frac_size)):\n",
    "            y_train_unlabel.append(-1)\n",
    "\n",
    "        # combine lablelled x with unlabelled x\n",
    "        x_train_df = pd.DataFrame(x_train)\n",
    "        x_train_cb = pd.concat([x_train_df, x_train_unlabel]).reset_index(drop = True)\n",
    "\n",
    "        # combine lablelled y with unlabelled y\n",
    "        y_train_df = pd.DataFrame(y_train)\n",
    "        y_train_unlabel = pd.DataFrame(y_train_unlabel)\n",
    "        y_train_cb = pd.concat([y_train_df, y_train_unlabel]).reset_index(drop = True)\n",
    "\n",
    "        accu, prec = semi_super_lr(x_train_cb, y_train_cb)\n",
    "        unlabeled_data_amount.append(frac_size)\n",
    "        accu_log.append(accu)\n",
    "        prec_log.append(prec)\n",
    "    \n",
    "    return unlabeled_data_amount, accu_log, prec_log"
   ]
  },
  {
   "cell_type": "code",
   "execution_count": 16,
   "metadata": {},
   "outputs": [
    {
     "name": "stderr",
     "output_type": "stream",
     "text": [
      "/opt/homebrew/anaconda3/lib/python3.9/site-packages/sklearn/utils/validation.py:993: DataConversionWarning: A column-vector y was passed when a 1d array was expected. Please change the shape of y to (n_samples, ), for example using ravel().\n",
      "  y = column_or_1d(y, warn=True)\n",
      "/opt/homebrew/anaconda3/lib/python3.9/site-packages/sklearn/utils/validation.py:993: DataConversionWarning: A column-vector y was passed when a 1d array was expected. Please change the shape of y to (n_samples, ), for example using ravel().\n",
      "  y = column_or_1d(y, warn=True)\n",
      "/opt/homebrew/anaconda3/lib/python3.9/site-packages/sklearn/utils/validation.py:993: DataConversionWarning: A column-vector y was passed when a 1d array was expected. Please change the shape of y to (n_samples, ), for example using ravel().\n",
      "  y = column_or_1d(y, warn=True)\n",
      "/opt/homebrew/anaconda3/lib/python3.9/site-packages/sklearn/utils/validation.py:993: DataConversionWarning: A column-vector y was passed when a 1d array was expected. Please change the shape of y to (n_samples, ), for example using ravel().\n",
      "  y = column_or_1d(y, warn=True)\n",
      "/opt/homebrew/anaconda3/lib/python3.9/site-packages/sklearn/utils/validation.py:993: DataConversionWarning: A column-vector y was passed when a 1d array was expected. Please change the shape of y to (n_samples, ), for example using ravel().\n",
      "  y = column_or_1d(y, warn=True)\n",
      "/opt/homebrew/anaconda3/lib/python3.9/site-packages/sklearn/utils/validation.py:993: DataConversionWarning: A column-vector y was passed when a 1d array was expected. Please change the shape of y to (n_samples, ), for example using ravel().\n",
      "  y = column_or_1d(y, warn=True)\n"
     ]
    }
   ],
   "source": [
    "unlabeled_data_amount, accu_log, prec_log = run_semi_super_lr()"
   ]
  },
  {
   "cell_type": "code",
   "execution_count": 17,
   "metadata": {},
   "outputs": [
    {
     "data": {
      "text/plain": [
       "[200.0, 2000.0, 20000.0, 40000.0, 100000.0, 200000]"
      ]
     },
     "execution_count": 17,
     "metadata": {},
     "output_type": "execute_result"
    }
   ],
   "source": [
    "unlabeled_data_amount"
   ]
  },
  {
   "cell_type": "code",
   "execution_count": 18,
   "metadata": {},
   "outputs": [
    {
     "data": {
      "text/plain": [
       "[0.7261022927689594,\n",
       " 0.7283950617283951,\n",
       " 0.7329805996472664,\n",
       " 0.7317460317460317,\n",
       " 0.7283950617283951,\n",
       " 0.7268077601410935]"
      ]
     },
     "execution_count": 18,
     "metadata": {},
     "output_type": "execute_result"
    }
   ],
   "source": [
    "accu_log"
   ]
  },
  {
   "cell_type": "code",
   "execution_count": 19,
   "metadata": {},
   "outputs": [
    {
     "data": {
      "text/plain": [
       "[0.6995641344956414,\n",
       " 0.7034244423499842,\n",
       " 0.7176276771004942,\n",
       " 0.7213611859838275,\n",
       " 0.7224321538990037,\n",
       " 0.7217241379310345]"
      ]
     },
     "execution_count": 19,
     "metadata": {},
     "output_type": "execute_result"
    }
   ],
   "source": [
    "prec_log"
   ]
  },
  {
   "cell_type": "code",
   "execution_count": 20,
   "metadata": {},
   "outputs": [
    {
     "data": {
      "image/png": "[encoded data removed]",
      "text/plain": [
       "<Figure size 432x288 with 1 Axes>"
      ]
     },
     "metadata": {
      "needs_background": "light"
     },
     "output_type": "display_data"
    }
   ],
   "source": [
    "plt.plot(unlabeled_data_amount, accu_log)\n",
    "plt.xlabel(\"Size of unlabeled data\")\n",
    "plt.ylabel(\"Accuracy\")\n",
    "plt.title(\"Logistic Regression accuracy changes with unlabeled data\")\n",
    "plt.show()"
   ]
  },
  {
   "cell_type": "code",
   "execution_count": 21,
   "metadata": {},
   "outputs": [
    {
     "data": {
      "image/png": "[encoded data removed]",
      "text/plain": [
       "<Figure size 432x288 with 1 Axes>"
      ]
     },
     "metadata": {
      "needs_background": "light"
     },
     "output_type": "display_data"
    }
   ],
   "source": [
    "plt.plot(unlabeled_data_amount, prec_log)\n",
    "plt.xlabel(\"Size of unlabeled data\")\n",
    "plt.ylabel(\"Precision\")\n",
    "plt.title(\"Precision rate changes with unlabeled data amount\")\n",
    "plt.show()"
   ]
  },
  {
   "cell_type": "code",
   "execution_count": 29,
   "metadata": {},
   "outputs": [
    {
     "name": "stderr",
     "output_type": "stream",
     "text": [
      "/opt/homebrew/anaconda3/lib/python3.9/site-packages/sklearn/utils/validation.py:993: DataConversionWarning: A column-vector y was passed when a 1d array was expected. Please change the shape of y to (n_samples, ), for example using ravel().\n",
      "  y = column_or_1d(y, warn=True)\n"
     ]
    }
   ],
   "source": [
    "\"\"\"\n",
    "To generate classification_report when unlabelled data amount is 20,000\n",
    "\"\"\"\n",
    "x_train_unlabel = unlabeled_embedding_comment_df.sample(frac=0.1, random_state = 1)\n",
    "y_train_unlabel = []\n",
    "frac_size = 20000\n",
    "for i in range(int(frac_size)):\n",
    "    y_train_unlabel.append(-1)\n",
    "\n",
    "# combine lablelled x with unlabelled x\n",
    "x_train_df = pd.DataFrame(x_train)\n",
    "x_train_cb = pd.concat([x_train_df, x_train_unlabel]).reset_index(drop = True)\n",
    "\n",
    "# combine lablelled y with unlabelled y\n",
    "y_train_df = pd.DataFrame(y_train)\n",
    "y_train_unlabel = pd.DataFrame(y_train_unlabel)\n",
    "y_train_cb = pd.concat([y_train_df, y_train_unlabel]).reset_index(drop = True)\n",
    "\n",
    "base = LogisticRegression(penalty='l1', solver='liblinear', C = 0.01)\n",
    "stclf = SelfTrainingClassifier(base)\n",
    "stclf.fit(x_train_cb,y_train_cb)\n",
    "pred = stclf.predict(x_predict)"
   ]
  },
  {
   "cell_type": "code",
   "execution_count": 25,
   "metadata": {},
   "outputs": [
    {
     "name": "stdout",
     "output_type": "stream",
     "text": [
      "              precision    recall  f1-score   support\n",
      "\n",
      "           0     0.7340    0.7026    0.7180      2835\n",
      "           1     0.7148    0.7453    0.7298      2835\n",
      "\n",
      "    accuracy                         0.7240      5670\n",
      "   macro avg     0.7244    0.7240    0.7239      5670\n",
      "weighted avg     0.7244    0.7240    0.7239      5670\n",
      "\n"
     ]
    }
   ],
   "source": [
    "print(classification_report(y_answer,pred,digits=4))"
   ]
  },
  {
   "cell_type": "code",
   "execution_count": 28,
   "metadata": {},
   "outputs": [
    {
     "name": "stderr",
     "output_type": "stream",
     "text": [
      "/opt/homebrew/anaconda3/lib/python3.9/site-packages/sklearn/utils/validation.py:993: DataConversionWarning: A column-vector y was passed when a 1d array was expected. Please change the shape of y to (n_samples, ), for example using ravel().\n",
      "  y = column_or_1d(y, warn=True)\n"
     ]
    }
   ],
   "source": [
    "\"\"\"\n",
    "To predict on the test dataset for kaggle competition using semi-supervised learning\n",
    "\"\"\"\n",
    "\n",
    "\"\"\"\n",
    "To generate classification_report when unlabelled data amount is 20,000\n",
    "\"\"\"\n",
    "x_train_unlabel = unlabeled_embedding_comment_df.sample(frac=0.1, random_state = 1)\n",
    "y_train_unlabel = []\n",
    "frac_size = 20000\n",
    "for i in range(int(frac_size)):\n",
    "    y_train_unlabel.append(-1)\n",
    "\n",
    "# combine lablelled x with unlabelled x\n",
    "x_train_df = pd.DataFrame(x_train)\n",
    "x_train_cb = pd.concat([x_train_df, x_train_unlabel]).reset_index(drop = True)\n",
    "\n",
    "# combine lablelled y with unlabelled y\n",
    "y_train_df = pd.DataFrame(y_train)\n",
    "y_train_unlabel = pd.DataFrame(y_train_unlabel)\n",
    "y_train_cb = pd.concat([y_train_df, y_train_unlabel]).reset_index(drop = True)\n",
    "\n",
    "base = LogisticRegression(penalty='l1', solver='liblinear', C = 0.01)\n",
    "stclf = SelfTrainingClassifier(base)\n",
    "stclf.fit(x_train_cb,y_train_cb)\n",
    "pred = stclf.predict(test_embedding_comment)\n",
    "\n",
    "kaggle_df = pd.DataFrame(pred)\n",
    "kaggle_df.to_csv(\"50_50_kaggle_predicton_1.0_semi.csv\")\n"
   ]
  }
 ],
 "metadata": {
  "kernelspec": {
   "display_name": "Python 3.9.12 ('base')",
   "language": "python",
   "name": "python3"
  },
  "language_info": {
   "codemirror_mode": {
    "name": "ipython",
    "version": 3
   },
   "file_extension": ".py",
   "mimetype": "text/x-python",
   "name": "python",
   "nbconvert_exporter": "python",
   "pygments_lexer": "ipython3",
   "version": "3.9.12"
  },
  "orig_nbformat": 4,
  "vscode": {
   "interpreter": {
    "hash": "38cca0c38332a56087b24af0bc80247f4fced29cb4f7f437d91dc159adec9c4e"
   }
  }
 },
 "nbformat": 4,
 "nbformat_minor": 2
}
