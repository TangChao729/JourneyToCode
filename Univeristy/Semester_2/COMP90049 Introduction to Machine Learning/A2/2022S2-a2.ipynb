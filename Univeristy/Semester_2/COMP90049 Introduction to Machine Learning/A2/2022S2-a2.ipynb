{
 "cells": [
  {
   "cell_type": "markdown",
   "metadata": {},
   "source": [
    "# Assignment 2: Naive Bayes [20 marks]\n",
    "\n",
    "Student Name: Chaojun Tang\n",
    "\n",
    "Student ID: 1323782\n",
    "\n",
    "## General info\n",
    "\n",
    "<b>Due date</b>: Friday, 2 September 2022, 5pm\n",
    "\n",
    "<b>Submission method</b>: Canvas submission\n",
    "\n",
    "<b>Submission materials</b>: completed copy of this iPython notebook\n",
    "\n",
    "<b>Late submissions</b>: -10% per day up to 5 days (both weekdays and weekends count)\n",
    "<ul>\n",
    "    <li>one day late, -2.0;</li>\n",
    "    <li>two days late, -4.0;</li>\n",
    "    <li>three days late, -6.0;</li>\n",
    "    <li>four days late, -8.0;</li>\n",
    "    <li>five days late, -10.0;</li>\n",
    "</ul>\n",
    "\n",
    "<b>Marks</b>: 20% of mark for class. \n",
    "\n",
    "<b>Materials</b>: See [Using Jupyter Notebook and Python page](https://canvas.lms.unimelb.edu.au/courses/126693/pages/python-and-jupyter-notebooks?module_item_id=3950453) on Canvas (under Modules> Coding Resources) for information on the basic setup required for this class, including an iPython notebook viewer.If your iPython notebook doesn't run on the marker's machine, you will lose marks. <b> You should use Python 3</b>.  \n",
    "\n",
    "\n",
    "<b>Evaluation</b>: Your iPython notebook should run end-to-end without any errors in a reasonable amount of time, and you must follow all instructions provided below, including specific implementation requirements and instructions for what needs to be printed (please avoid printing output we don't ask for). You should implement functions for the skeletons listed below. You may implement any number of additional (helper) functions. You should leave the output from running your code in the iPython notebook you submit, to assist with marking. The amount each section is worth is given in parenthesis after the instructions. \n",
    "\n",
    "You will be marked not only on the correctness of your methods, but also the quality and efficiency of your code: in particular, you should be careful to use Python built-in functions and operators when appropriate and pick descriptive variable names that adhere to <a href=\"https://www.python.org/dev/peps/pep-0008/\">Python style requirements</a>. If you think it might be unclear what you are doing, you should comment your code to help the marker make sense of it. We reserve the right to deduct up to 4 marks for unreadable or excessively inefficient code.\n",
    "\n",
    "7 of the marks available for this Project will be assigned to whether the five specified Python functions work in a manner consistent with the materials from COMP90049. Any other implementation will not be directly assessed (except insofar as it is required to make these five functions work correctly).\n",
    "\n",
    "13 of the marks will be assigned to your responses to the questions, in terms of both accuracy and insightfulness. We will be looking for evidence that you have an implementation that allows you to explore the problem, but also that you have thought deeply about the data and the behaviour of the Naive Bayes classifier.\n",
    "\n",
    "<b>Updates</b>: Any major changes to the assignment will be announced via Canvas. Minor changes and clarifications will be announced on the discussion board (Piazza -> Assignments -> A2); we recommend you check it regularly.\n",
    "\n",
    "<b>Academic misconduct</b>: While you may discuss this homework in general terms with other students, it ultimately is still an individual task. Reuse of code or other instances of clear influence will be considered cheating. Please check the <a href=\"https://canvas.lms.unimelb.edu.au/courses/126693/modules#module_734188\">CIS Academic Honesty training</a> for more information. We will be checking submissions for originality and will invoke the University’s <a href=\"http://academichonesty.unimelb.edu.au/policy.html\">Academic Misconduct policy</a> where inappropriate levels of collusion or plagiarism are deemed to have taken place.\n",
    "\n",
    "**IMPORTANT**\n",
    "\n",
    "Please carefully read and fill out the <b>Authorship Declaration</b> form at the bottom of the page. Failure to fill out this form results in the following deductions: \n",
    "<UL TYPE=”square”>\n",
    "<LI>missing Authorship Declaration at the bottom of the page, -10.0\n",
    "<LI>incomplete or unsigned Authorship Declaration at the bottom of the page, -5.0\n",
    "</UL>"
   ]
  },
  {
   "cell_type": "markdown",
   "metadata": {},
   "source": [
    "## Part 1: Base code [7 marks]\n",
    "\n",
    "Instructions\n",
    "1. Do **not** shuffle the data set\n",
    "2. Treat the features as nominal and use them as provided (e.g., do **not** convert them to other feature types, such as numeric ones). Implement a Naive Bayes classifier with appropriate likelihood function for the data.\n",
    "3. You should implement the Naive Bayes classifier from scratch. Do **not** use existing implementations/learning algorithms. You must use epsilon smoothing strategy as discussed in the Naive Bayes lecture. \n",
    "4. Apart from the instructions in point 3, you may use libraries to help you with data reading, representation, maths or evaluation.\n",
    "5. Ensure that all and only required information is printed, as indicated in the final three code cells. Failure to adhere to print the required information will result in **[-1 mark]** per case. *(We don't mind details like you print a list or several numbers -- just make sure the information is displayed so that it's easily accessible)*\n",
    "6. Please place the jupyter notebook into the same folder as the input data.\n"
   ]
  },
  {
   "cell_type": "code",
   "execution_count": 918,
   "metadata": {},
   "outputs": [],
   "source": [
    "import numpy as np\n",
    "import pandas as pd"
   ]
  },
  {
   "cell_type": "code",
   "execution_count": 919,
   "metadata": {},
   "outputs": [],
   "source": [
    "# This function should open a csv file and read the data into a useable format [0.5 mark]\n",
    "\n",
    "def preprocess(filename):\n",
    "    train_data = pd.read_csv(filename)\n",
    "\n",
    "    # drop client ID & label\n",
    "    train_label = train_data[train_data.columns[-1]]\n",
    "    del train_data[train_data.columns.values[0]]\n",
    "    del train_data[train_data.columns.values[-1]]\n",
    "\n",
    "    # this is used to prevent extreme case happen in CV\n",
    "    all_features = list(train_data.columns)\n",
    "    all_labels = np.unique(train_label)\n",
    "\n",
    "    return train_data, train_label, all_features, all_labels"
   ]
  },
  {
   "cell_type": "code",
   "execution_count": 920,
   "metadata": {},
   "outputs": [],
   "source": [
    "# This function should build a supervised NB model [3 marks]\n",
    "def train(train_data, train_label, all_features, all_labels):\n",
    "    if not len(train_data) == len(train_label):\n",
    "        print(\"file sizes differ, please check\")\n",
    "        return 0\n",
    "\n",
    "    train_size = train_data.shape[0]\n",
    "    features = all_features\n",
    "    \n",
    "    label_priors = {}\n",
    "    pred_priors = {}\n",
    "    likelihoods = {}\n",
    "\n",
    "    # initial label_prior dict\n",
    "    for label in np.unique(all_labels):\n",
    "        label_priors.update({label: 0})   \n",
    "\n",
    "    # initialization\n",
    "    for feature in features:\n",
    "\n",
    "        # initial likelihoods dict\n",
    "        likelihoods[feature] = {}\n",
    "\n",
    "        # initial prediction prior belief dict\n",
    "        pred_priors[feature] = {}\n",
    "\n",
    "        # for each feature, iterate over unique value of this set of feature\n",
    "        for feat_val in np.unique(train_data[feature]):\n",
    "\n",
    "            # iterate over each label\n",
    "            for label in np.unique(all_labels):\n",
    "\n",
    "                # initial likelihood dict\n",
    "                likelihoods[feature].update({feat_val+'_'+label:0})\n",
    "\n",
    "    # calculate label probability prior P(y)\n",
    "    for label in np.unique(all_labels):\n",
    "        label_count = sum(train_label == label)\n",
    "        \n",
    "        # i.e. {'yes': 0.88, 'no': 0.11}\n",
    "        label_priors[label] = label_count / train_size\n",
    "        \n",
    "\n",
    "    # calculate likelihoods P(x|y)\n",
    "    for feature in features:\n",
    "        for label in np.unique(all_labels):\n",
    "            label_count = sum(train_label == label)\n",
    "\n",
    "            # each feature likelihood under this lable (yes or no) equals to all instances of this feature that is under this label (yes or no)\n",
    "            # simple visualization:\n",
    "            # - cross all other class row\n",
    "            # - cross all other features column\n",
    "            # count this valid column's values, put into a dict\n",
    "            feat_likelihood = train_data[feature][train_label[train_label == label].index.values.tolist()].value_counts().to_dict()\n",
    "\n",
    "            for feat_val, count in feat_likelihood.items():\n",
    "                likelihoods[feature][feat_val + '_' + label] = count/label_count\n",
    "\n",
    "    unique_labels = np.unique(all_labels)\n",
    "\n",
    "    return features, unique_labels, label_priors, pred_priors, likelihoods\n"
   ]
  },
  {
   "cell_type": "code",
   "execution_count": 921,
   "metadata": {},
   "outputs": [],
   "source": [
    "# This function should predict the class for a set of instances, based on a trained model [1.5 marks]\n",
    "def predict(candidates, features, unique_labels, label_priors, pred_priors, likelihoods):\n",
    "    \n",
    "    results = []\n",
    "    epsilon = 1e-6\n",
    "\n",
    "    # for each candidate\n",
    "    for candidate in candidates:\n",
    "        \n",
    "        candidate_probability = {}\n",
    "\n",
    "        # either 'yes' or 'no' in this case\n",
    "        for label in np.unique(unique_labels):\n",
    "\n",
    "            # percentage of 'yes' or 'no'\n",
    "            # log-transformation\n",
    "            p_y = np.log(label_priors[label])\n",
    "\n",
    "            # initial set\n",
    "            p_x_y = 0\n",
    "\n",
    "            # reverse processing to pair feature heading with candidate features\n",
    "            for feat, feat_val in zip(features, candidate):\n",
    "\n",
    "                # in CV, this could happen due small sample size\n",
    "                if feat_val + '_' + label not in likelihoods[feat].keys():\n",
    "                    a_likelihood = 0\n",
    "                else:\n",
    "                    a_likelihood = likelihoods[feat][feat_val + '_' + label]\n",
    "                \n",
    "                # smoothing\n",
    "                if a_likelihood == 0:\n",
    "                    a_likelihood = epsilon\n",
    "                \n",
    "                # log it\n",
    "                a_likelihood = np.log(a_likelihood)\n",
    "                p_x_y += a_likelihood\n",
    "\n",
    "            # Bayes rule in log-transformation\n",
    "            p_y_x = (p_x_y + p_y) # / (p_x) dont need it\n",
    "\n",
    "            # add bayes probability to dict\n",
    "            candidate_probability[label] = p_y_x\n",
    "        \n",
    "        prediction_label = max(candidate_probability, key = lambda x: candidate_probability[x])\n",
    "        \n",
    "        # append to result list\n",
    "        results.append(prediction_label)\n",
    "\n",
    "    return np.array(results), candidate_probability"
   ]
  },
  {
   "cell_type": "code",
   "execution_count": 922,
   "metadata": {},
   "outputs": [],
   "source": [
    "# This function should evaluate a set of predictions [1 mark]\n",
    "\n",
    "# 1-E evaluation\n",
    "def evaluate(sample, prediction):\n",
    "    if not len(sample) == len(prediction):\n",
    "        print(\"file sizes differ, please check\")\n",
    "        return 0\n",
    "\n",
    "    true = sum(prediction == sample)\n",
    "    total = len(sample)\n",
    "    accuracy = float(true)/float(total)\n",
    "    return accuracy"
   ]
  },
  {
   "cell_type": "code",
   "execution_count": 923,
   "metadata": {},
   "outputs": [],
   "source": [
    "from sklearn import metrics\n",
    "\n",
    "# f1-score evaluation\n",
    "def f_score_evaluate(sample, prediction):\n",
    "    if not len(sample) == len(prediction):\n",
    "        print(\"file sizes differ, please check\")\n",
    "        return 0\n",
    "    return metrics.classification_report(sample, prediction, digits=3)"
   ]
  },
  {
   "cell_type": "markdown",
   "metadata": {},
   "source": [
    "## Bank Marketing"
   ]
  },
  {
   "cell_type": "code",
   "execution_count": 924,
   "metadata": {},
   "outputs": [
    {
     "name": "stdout",
     "output_type": "stream",
     "text": [
      "1-E Accuracy: 0.8874142888741429\n",
      "F-Score Accuracy:\n",
      "               precision    recall  f1-score   support\n",
      "\n",
      "          no      0.908     0.972     0.939      4000\n",
      "         yes      0.525     0.242     0.331       521\n",
      "\n",
      "    accuracy                          0.887      4521\n",
      "   macro avg      0.716     0.607     0.635      4521\n",
      "weighted avg      0.864     0.887     0.869      4521\n",
      "\n",
      "Feature vectors of instances [0, 1, 2]: \n",
      " instance 1:  ['unemployed', 'married', 'primary', 'no', 'no', 'no', 'cellular', 'oct', 'unknown'] \n",
      " instance 2:  ['services', 'married', 'secondary', 'no', 'yes', 'yes', 'cellular', 'may', 'failure'] \n",
      " instance 3:  ['management', 'single', 'tertiary', 'no', 'yes', 'no', 'cellular', 'apr', 'failure']\n",
      "\n",
      "Number of instances (N):  4521\n",
      "Number of features (F):  9\n",
      "Number of labels (L):  2\n",
      "\n",
      "\n",
      "Predicted class probabilities for instance N-3:  {'no': -6.7116077635370655, 'yes': -8.583110831432391}\n",
      "Predicted class for instance N-3:  no\n",
      "\n",
      "Predicted class probabilities for instance N-2:  {'no': -10.619918711707394, 'yes': -11.68220339799834}\n",
      "Predicted class for instance N-2:  no\n",
      "\n",
      "Predicted class probabilities for instance N-1:  {'no': -14.88701380580801, 'yes': -16.28697922108946}\n",
      "Predicted class for instance N-1:  no\n"
     ]
    }
   ],
   "source": [
    "# This cell should act as your \"main\" function where you call the above functions \n",
    "# on the full Bank Marketing data set, and print the evaluation score. [0.33 marks]\n",
    "\n",
    "# First, read in the data and apply your NB model to the Bank Marketing data\n",
    "train_data, train_label, all_features, all_labels = preprocess(\"bank-marketing.csv\")\n",
    "features, unique_labels, label_priors, pred_priors, likelihoods = train(train_data, train_label, all_features, all_labels)\n",
    "\n",
    "# Second, print the full evaluation results from the evaluate() function\n",
    "to_predict = np.array(train_data)\n",
    "results, results_probability = predict(to_predict, features, unique_labels, label_priors, pred_priors, likelihoods)\n",
    "\n",
    "print(\"1-E Accuracy: {}\".format(evaluate(train_label, results)))\n",
    "print(\"F-Score Accuracy:\\n {}\".format(f_score_evaluate(train_label, results)))\n",
    "\n",
    "# Third, print data statistics and model predictions, as instructed below \n",
    "# N is the total number of instances, F the total number of features, L the total number of labels\n",
    "# The \"class probabilities\" may be unnormalized\n",
    "\n",
    "print(\"Feature vectors of instances [0, 1, 2]: \\n\", \"instance 1: \", train_data.loc[0].tolist(), \"\\n\", \"instance 2: \", train_data.loc[1].tolist(), \"\\n\", \"instance 3: \", train_data.loc[2].tolist())\n",
    "\n",
    "print(\"\\nNumber of instances (N): \", train_data.shape[0])\n",
    "print(\"Number of features (F): \", len(train_data.columns))\n",
    "print(\"Number of labels (L): \", len(np.unique(train_label)))\n",
    "\n",
    "to_predict = np.array([train_data.iloc[train_data.shape[0]-3]])\n",
    "results, results_probability = predict(to_predict, features, unique_labels, label_priors, pred_priors, likelihoods)\n",
    "print(\"\\n\\nPredicted class probabilities for instance N-3: \", results_probability)\n",
    "print(\"Predicted class for instance N-3: \", results[0])\n",
    "\n",
    "to_predict = np.array([train_data.iloc[train_data.shape[0]-2]])\n",
    "results, results_probability = predict(to_predict, features, unique_labels, label_priors, pred_priors, likelihoods)\n",
    "print(\"\\nPredicted class probabilities for instance N-2: \", results_probability)\n",
    "print(\"Predicted class for instance N-2: \", results[0])\n",
    "\n",
    "\n",
    "to_predict = np.array([train_data.iloc[train_data.shape[0]-1]])\n",
    "results, results_probability = predict(to_predict, features, unique_labels, label_priors, pred_priors, likelihoods)\n",
    "print(\"\\nPredicted class probabilities for instance N-1: \", results_probability)\n",
    "print(\"Predicted class for instance N-1: \", results[0])\n",
    "\n"
   ]
  },
  {
   "cell_type": "markdown",
   "metadata": {},
   "source": [
    "## Student"
   ]
  },
  {
   "cell_type": "code",
   "execution_count": 925,
   "metadata": {},
   "outputs": [
    {
     "name": "stdout",
     "output_type": "stream",
     "text": [
      "1-E Accuracy: 0.48382126348228044\n",
      "F-Score Accuracy:\n",
      "               precision    recall  f1-score   support\n",
      "\n",
      "           A      0.421     0.492     0.454        65\n",
      "          A+      0.500     0.471     0.485        17\n",
      "           B      0.447     0.375     0.408       112\n",
      "           C      0.423     0.448     0.435       154\n",
      "           D      0.526     0.552     0.539       201\n",
      "           F      0.584     0.520     0.550       100\n",
      "\n",
      "    accuracy                          0.484       649\n",
      "   macro avg      0.484     0.476     0.478       649\n",
      "weighted avg      0.486     0.484     0.483       649\n",
      "\n",
      "Feature vectors of instances [0, 1, 2]: \n",
      " instance 1:  ['GP', 'F', 'U', 'GT3', 'A', 'high', 'high', 'at_home', 'teacher', 'course', 'mother', 'medium', 'medium', 'none', 'yes', 'no', 'no', 'no', 'yes', 'yes', 'no', 'no', 'good', 'mediocre', 'good', 'very_bad', 'very_bad', 'mediocre', 'four_to_six'] \n",
      " instance 2:  ['GP', 'F', 'U', 'GT3', 'T', 'low', 'low', 'at_home', 'other', 'course', 'father', 'low', 'medium', 'none', 'no', 'yes', 'no', 'no', 'no', 'yes', 'yes', 'no', 'excellent', 'mediocre', 'mediocre', 'very_bad', 'very_bad', 'mediocre', 'one_to_three'] \n",
      " instance 3:  ['GP', 'F', 'U', 'LE3', 'T', 'low', 'low', 'at_home', 'other', 'other', 'mother', 'low', 'medium', 'none', 'yes', 'no', 'no', 'no', 'yes', 'yes', 'yes', 'no', 'good', 'mediocre', 'bad', 'bad', 'mediocre', 'mediocre', 'four_to_six']\n",
      "\n",
      "Number of instances (N):  649\n",
      "Number of features (F):  29\n",
      "Number of labels (L):  6\n",
      "\n",
      "\n",
      "Predicted class probabilities for instance N-3:  {'A': -44.67188056628292, 'A+': -53.24152996772325, 'B': -29.638141637141143, 'C': -29.09025010924399, 'D': -27.552359713949045, 'F': -26.456204229824664}\n",
      "Predicted class for instance N-3:  F\n",
      "\n",
      "Predicted class probabilities for instance N-2:  {'A': -38.26191454141717, 'A+': -53.14843606247483, 'B': -34.597061531595976, 'C': -35.384503684268765, 'D': -29.404207192607164, 'F': -31.409841590368494}\n",
      "Predicted class for instance N-2:  D\n",
      "\n",
      "Predicted class probabilities for instance N-1:  {'A': -46.75305333540229, 'A+': -51.19807156307013, 'B': -32.56646829531062, 'C': -33.42681333025393, 'D': -27.45157911437387, 'F': -29.636481651604864}\n",
      "Predicted class for instance N-1:  D\n"
     ]
    }
   ],
   "source": [
    "# This cell should act as your \"main\" function where you call the above functions \n",
    "# on the full Student data set, and print the evaluation score. [0.33 marks]\n",
    "\n",
    "# First, read in the data and apply your NB model to the Student data\n",
    "\n",
    "train_data, train_label, all_features, all_labels = preprocess(\"student.csv\")\n",
    "features, unique_labels, label_priors, pred_priors, likelihoods = train(train_data, train_label, all_features, all_labels)\n",
    "\n",
    "# Second, print the full evaluation results from the evaluate() function\n",
    "to_predict = np.array(train_data)\n",
    "results, results_probability = predict(to_predict, features, unique_labels, label_priors, pred_priors, likelihoods)\n",
    "\n",
    "print(\"1-E Accuracy: {}\".format(evaluate(train_label, results)))\n",
    "print(\"F-Score Accuracy:\\n {}\".format(f_score_evaluate(train_label, results)))\n",
    "\n",
    "# Third, print data statistics and model predictions, as instructed below \n",
    "# N is the total number of instances, F the total number of features, L the total number of labels\n",
    "# The \"class probabilities\" may be unnormalized\n",
    "\n",
    "print(\"Feature vectors of instances [0, 1, 2]: \\n\", \"instance 1: \", train_data.loc[0].tolist(), \"\\n\", \"instance 2: \", train_data.loc[1].tolist(), \"\\n\", \"instance 3: \", train_data.loc[2].tolist())\n",
    "\n",
    "print(\"\\nNumber of instances (N): \", train_data.shape[0])\n",
    "print(\"Number of features (F): \", len(train_data.columns))\n",
    "print(\"Number of labels (L): \", len(np.unique(train_label)))\n",
    "\n",
    "to_predict = np.array([train_data.iloc[train_data.shape[0]-3]])\n",
    "results, results_probability = predict(to_predict, features, unique_labels, label_priors, pred_priors, likelihoods)\n",
    "print(\"\\n\\nPredicted class probabilities for instance N-3: \", results_probability)\n",
    "print(\"Predicted class for instance N-3: \", results[0])\n",
    "\n",
    "to_predict = np.array([train_data.iloc[train_data.shape[0]-2]])\n",
    "results, results_probability = predict(to_predict, features, unique_labels, label_priors, pred_priors, likelihoods)\n",
    "print(\"\\nPredicted class probabilities for instance N-2: \", results_probability)\n",
    "print(\"Predicted class for instance N-2: \", results[0])\n",
    "\n",
    "\n",
    "to_predict = np.array([train_data.iloc[train_data.shape[0]-1]])\n",
    "results, results_probability = predict(to_predict, features, unique_labels, label_priors, pred_priors, likelihoods)\n",
    "print(\"\\nPredicted class probabilities for instance N-1: \", results_probability)\n",
    "print(\"Predicted class for instance N-1: \", results[0])\n",
    "\n"
   ]
  },
  {
   "cell_type": "markdown",
   "metadata": {},
   "source": [
    "## Obesity"
   ]
  },
  {
   "cell_type": "code",
   "execution_count": 926,
   "metadata": {},
   "outputs": [
    {
     "name": "stdout",
     "output_type": "stream",
     "text": [
      "1-E Accuracy: 0.7783041212695405\n",
      "F-Score Accuracy:\n",
      "               precision    recall  f1-score   support\n",
      "\n",
      "   not-obese      0.868     0.694     0.772      1139\n",
      "       obese      0.710     0.877     0.785       972\n",
      "\n",
      "    accuracy                          0.778      2111\n",
      "   macro avg      0.789     0.786     0.778      2111\n",
      "weighted avg      0.795     0.778     0.778      2111\n",
      "\n",
      "Feature vectors of instances [0, 1, 2]: \n",
      " instance 1:  ['Male', 'yes', 'yes', 'mid', 'high', 'Sometimes', 'yes', 'mid', 'no', 'low-activity', 'mediocre', 'Frequently', 'Public_Transportation'] \n",
      " instance 2:  ['Male', 'yes', 'yes', 'mid', 'high', 'Sometimes', 'no', 'high', 'no', 'low-activity', 'good', 'Sometimes', 'Public_Transportation'] \n",
      " instance 3:  ['Male', 'yes', 'yes', 'high', 'high', 'Sometimes', 'no', 'high', 'no', 'low-activity', 'good', 'Sometimes', 'Public_Transportation']\n",
      "\n",
      "Number of instances (N):  2111\n",
      "Number of features (F):  13\n",
      "Number of labels (L):  2\n",
      "\n",
      "\n",
      "Predicted class probabilities for instance N-3:  {'not-obese': -11.010971850189438, 'obese': -16.781396212349385}\n",
      "Predicted class for instance N-3:  not-obese\n",
      "\n",
      "Predicted class probabilities for instance N-2:  {'not-obese': -10.299211743895615, 'obese': -15.249446788238835}\n",
      "Predicted class for instance N-2:  not-obese\n",
      "\n",
      "Predicted class probabilities for instance N-1:  {'not-obese': -7.261582154381628, 'obese': -5.340573755268081}\n",
      "Predicted class for instance N-1:  obese\n"
     ]
    }
   ],
   "source": [
    "\n",
    "# This cell should act as your \"main\" function where you call the above functions \n",
    "# on the full Obesity data set, and print the evaluation score. [0.33 marks]\n",
    "\n",
    "# First, read in the data and apply your NB model to the Student data\n",
    "\n",
    "train_data, train_label, all_features, all_labels = preprocess(\"obesity.csv\")\n",
    "features, unique_labels, label_priors, pred_priors, likelihoods = train(train_data, train_label, all_features, all_labels)\n",
    "\n",
    "# Second, print the full evaluation results from the evaluate() function\n",
    "to_predict = np.array(train_data)\n",
    "results, results_probability = predict(to_predict, features, unique_labels, label_priors, pred_priors, likelihoods)\n",
    "\n",
    "print(\"1-E Accuracy: {}\".format(evaluate(train_label, results)))\n",
    "print(\"F-Score Accuracy:\\n {}\".format(f_score_evaluate(train_label, results)))\n",
    "\n",
    "# Third, print data statistics and model predictions, as instructed below \n",
    "# N is the total number of instances, F the total number of features, L the total number of labels\n",
    "# The \"class probabilities\" may be unnormalized\n",
    "\n",
    "print(\"Feature vectors of instances [0, 1, 2]: \\n\", \"instance 1: \", train_data.loc[0].tolist(), \"\\n\", \"instance 2: \", train_data.loc[1].tolist(), \"\\n\", \"instance 3: \", train_data.loc[2].tolist())\n",
    "\n",
    "print(\"\\nNumber of instances (N): \", train_data.shape[0])\n",
    "print(\"Number of features (F): \", len(train_data.columns))\n",
    "print(\"Number of labels (L): \", len(np.unique(train_label)))\n",
    "\n",
    "to_predict = np.array([train_data.iloc[train_data.shape[0]-3]])\n",
    "results, results_probability = predict(to_predict, features, unique_labels, label_priors, pred_priors, likelihoods)\n",
    "print(\"\\n\\nPredicted class probabilities for instance N-3: \", results_probability)\n",
    "print(\"Predicted class for instance N-3: \", results[0])\n",
    "\n",
    "to_predict = np.array([train_data.iloc[train_data.shape[0]-2]])\n",
    "results, results_probability = predict(to_predict, features, unique_labels, label_priors, pred_priors, likelihoods)\n",
    "print(\"\\nPredicted class probabilities for instance N-2: \", results_probability)\n",
    "print(\"Predicted class for instance N-2: \", results[0])\n",
    "\n",
    "\n",
    "to_predict = np.array([train_data.iloc[train_data.shape[0]-1]])\n",
    "results, results_probability = predict(to_predict, features, unique_labels, label_priors, pred_priors, likelihoods)\n",
    "print(\"\\nPredicted class probabilities for instance N-1: \", results_probability)\n",
    "print(\"Predicted class for instance N-1: \", results[0])\n"
   ]
  },
  {
   "cell_type": "markdown",
   "metadata": {},
   "source": [
    "#### Part 2: Conceptual questions [13 marks]"
   ]
  },
  {
   "cell_type": "markdown",
   "metadata": {},
   "source": [
    "## Question 1: One-R Baseline [3 marks]"
   ]
  },
  {
   "cell_type": "code",
   "execution_count": 927,
   "metadata": {},
   "outputs": [],
   "source": [
    "# Write additional code here, if necessary (you may insert additional code cells)\n",
    "# You should implement the One-R classifier from scratch. Do not use existing implementations/learning algorithms.\n",
    "# Print the feature name and its corresponding error rate that One-R selects, in addition to any evaluation scores.\n",
    "\n",
    "# One-r from scratch\n",
    "def _one_r_predict(feature, train_data, train_label):\n",
    "    value_count_dict = {}\n",
    "    for value in np.unique(train_data[feature]):\n",
    "        value_count_dict[value] = {}\n",
    "\n",
    "        for label in np.unique(train_label):\n",
    "            value_count_dict[value][label] = 0\n",
    "\n",
    "    for label in np.unique(train_label):\n",
    "        label_count_feature = train_data[feature][train_label[train_label == label].index.values.tolist()].value_counts().to_dict()\n",
    "        \n",
    "        for value in label_count_feature.keys():\n",
    "            value_count_dict[value][label] = label_count_feature[value]\n",
    "\n",
    "    train_size = train_data.shape[0]\n",
    "    \n",
    "    total_error = 0\n",
    "    for value in value_count_dict.keys():\n",
    "        dominate_label = max(value_count_dict[value], key = lambda x: value_count_dict[value][x])\n",
    "\n",
    "        error_count = 0\n",
    "        for label in value_count_dict[value].keys():\n",
    "            if not label == dominate_label:\n",
    "                error_count += value_count_dict[value][label]\n",
    "        total_error += error_count\n",
    "\n",
    "    return total_error / train_size\n",
    "\n",
    "def one_r_predict(train_data, train_label):\n",
    "        \n",
    "    if not len(train_data) == len(train_label):\n",
    "        print(\"file sizes differ, please check\")\n",
    "        return 0\n",
    "        \n",
    "    features = list(train_data.columns)\n",
    "    one_r_dict = {}\n",
    "\n",
    "    for feature in features:\n",
    "        one_r_dict[feature] = _one_r_predict(feature, train_data, train_label)\n",
    "\n",
    "    return one_r_dict"
   ]
  },
  {
   "cell_type": "code",
   "execution_count": 928,
   "metadata": {},
   "outputs": [],
   "source": [
    "def get_one_r_predict_result(filename):\n",
    "    print(filename + \": \")\n",
    "    train_data, train_label, all_features, all_labels = preprocess(filename)\n",
    "    features = list(train_data.columns)\n",
    "\n",
    "    one_r_predict_result = one_r_predict(train_data, train_label)\n",
    "    print(\"\\nError rate:\")\n",
    "    # for feature in features:\n",
    "        # print(feature, \": \", one_r_predict_result[feature])\n",
    "\n",
    "    min = 1\n",
    "    for feature in features:\n",
    "        if one_r_predict_result[feature] < min:\n",
    "            min = one_r_predict_result[feature]\n",
    "\n",
    "    candidates_list = []\n",
    "    for predict in one_r_predict_result.keys():\n",
    "        if one_r_predict_result[predict] == min:\n",
    "            candidates_list.append(predict)\n",
    "\n",
    "    print(\"\\nLowest error rate among features: \", min)\n",
    "    print(\"Feature with min error rate: \", candidates_list)\n",
    "    print(\"Equal accuracy: \", 1 - min, \"\\n\")\n"
   ]
  },
  {
   "cell_type": "code",
   "execution_count": 929,
   "metadata": {},
   "outputs": [
    {
     "name": "stdout",
     "output_type": "stream",
     "text": [
      "bank-marketing.csv: \n",
      "\n",
      "Error rate:\n",
      "\n",
      "Lowest error rate among features:  0.1070559610705596\n",
      "Feature with min error rate:  ['poutcome']\n",
      "Equal accuracy:  0.8929440389294404 \n",
      "\n",
      "student.csv: \n",
      "\n",
      "Error rate:\n",
      "\n",
      "Lowest error rate among features:  0.6656394453004623\n",
      "Feature with min error rate:  ['Fedu']\n",
      "Equal accuracy:  0.33436055469953774 \n",
      "\n",
      "obesity.csv: \n",
      "\n",
      "Error rate:\n",
      "\n",
      "Lowest error rate among features:  0.36475603979156795\n",
      "Feature with min error rate:  ['family_history_with_overweight']\n",
      "Equal accuracy:  0.6352439602084321 \n",
      "\n"
     ]
    }
   ],
   "source": [
    "files = []\n",
    "\n",
    "files.append(\"bank-marketing.csv\")\n",
    "files.append(\"student.csv\")\n",
    "files.append(\"obesity.csv\")\n",
    "\n",
    "for file in files:\n",
    "    get_one_r_predict_result(file)"
   ]
  },
  {
   "cell_type": "markdown",
   "metadata": {},
   "source": [
    "Provide your text answer to **Question 1.b** of 100-150 words in this cell.\n",
    "\n",
    "Naive bayes classifier accuracy of each dataset:\n",
    "\n",
    "bank-marketing: 88.7%\n",
    "student: 48.4%\n",
    "obesity: 77.8%\n",
    "\n",
    "One-r baseline accuracy of each dataset:\n",
    "\n",
    "bank-marketing: 89.2%\n",
    "student: 33.4%\n",
    "obesity: 63.5%\n",
    "\n",
    "Naive bayes classifier takes all features into consideration when making a prediction, hence, each feature no matter its contribution is high or low, will be considered to predict the class (although likelihood of each feature is different). One-r baseline consider each feature independently when making prediction, and choose the feature with highest accuracy rate, hence, One-r base is good at finding the dominant factor among all features. It can produce higher higher accuracy rate than naive bayes sometimes, if one feature dominates other features (in this situation, other features become drawbacks in predictions)\n",
    "\n",
    "Referring to the student dataset, naive bayes classifier outperforms one-r base by a lot. In this case, no single feature contributes significant higher effect to results comparing to other features (error rate all among 0.66 to 0.69). Hence, naive bayes model carefully consider each feature, looking for the likelihoods of each feature and label and comprehensively predicting the result, while one-r could only pick the best among others. This is where naive bayes shines as it increases the accuracy from not-so-obvious dataset.\n",
    "\n",
    "On the other hand, in the bank marketing dataset, one-r base performs slightly better than naive bayes. This shows that there must be one feature (\"poutcome\") that is highly related to the class label. If using naive bayes, it considers other not-so-related features which weigh down \"poutcome\" importance, hence the accuracy drops. Therefore, it means the effort spend on a sophisticated model (naive bayes) is probably not worth it as it doesn't outperform the baseline model result in this case."
   ]
  },
  {
   "cell_type": "markdown",
   "metadata": {},
   "source": [
    "## Question 2: Evaluation strategy [3 marks] \n"
   ]
  },
  {
   "cell_type": "code",
   "execution_count": 930,
   "metadata": {},
   "outputs": [],
   "source": [
    "# Write additional code here, if necessary (you may insert additional code cells)\n",
    "\n",
    "# cv from scratch\n",
    "def cv_preprocess(filename, m_partitions):\n",
    "    train_data = pd.read_csv(filename)\n",
    "    \n",
    "    # delete client id\n",
    "    del train_data[train_data.columns.values[0]]\n",
    "\n",
    "    # drop client ID & label\n",
    "    all_labels = np.unique(train_data[train_data.columns[-1]])\n",
    "\n",
    "    all_features = list(train_data.columns)\n",
    "    all_features.pop()\n",
    "\n",
    "    permuted_indices = list(range(len(train_data)))\n",
    "\n",
    "    feature_partitions = []\n",
    "    label_partitions = []\n",
    "    for i in range(m_partitions):\n",
    "        one_partition = train_data.iloc[permuted_indices[i::m_partitions]]\n",
    "        one_label_partition = one_partition[train_data.columns[-1]]\n",
    "        del one_partition[one_partition.columns.values[-1]]\n",
    "        \n",
    "        feature_partitions.append(one_partition)\n",
    "        label_partitions.append(one_label_partition)\n",
    "\n",
    "    return feature_partitions, label_partitions, all_features, all_labels"
   ]
  },
  {
   "cell_type": "code",
   "execution_count": 931,
   "metadata": {},
   "outputs": [],
   "source": [
    "def cross_validation(filename, m_partitions):\n",
    "    feature_partitions, label_partitions, all_features, all_labels = cv_preprocess(filename, m_partitions)\n",
    "    total_1E = 0\n",
    "    total_F1 = 0\n",
    "    for i in range(len(feature_partitions)):\n",
    "        if m_partitions > 1:\n",
    "            # pick one partition as test sample\n",
    "            to_predict = np.array(feature_partitions[i])\n",
    "            to_compare = label_partitions[i]\n",
    "\n",
    "            # concat the rest as training sample\n",
    "            _train_data = feature_partitions[0:i] + feature_partitions[i + 1 : len(feature_partitions)]\n",
    "            train_data = pd.concat(_train_data)\n",
    "            _train_label = label_partitions[0:i] + label_partitions[i + 1 : len(label_partitions)]\n",
    "            train_label = pd.concat(_train_label)\n",
    "        elif m_partitions == 1:\n",
    "            to_predict = np.array(feature_partitions[0])\n",
    "            to_compare = label_partitions[0]\n",
    "            train_data = feature_partitions[0]\n",
    "            train_label = label_partitions[0]\n",
    "        else:\n",
    "            print(\"m_partitions min 1\")\n",
    "            break\n",
    "        \n",
    "        # get 1-E\n",
    "        features, unique_labels, label_priors, pred_priors, likelihoods = train(train_data, train_label, all_features, all_labels)\n",
    "        results, results_probability = predict(to_predict, features, unique_labels, label_priors, pred_priors, likelihoods)\n",
    "        accuracy_1E = evaluate(to_compare, results)\n",
    "\n",
    "        # get F-1\n",
    "        total_1E += accuracy_1E\n",
    "        report = metrics.classification_report(to_compare, results, output_dict=True, zero_division = 0)\n",
    "        df_classification_report = pd.DataFrame(report).transpose()\n",
    "        df_classification_report = df_classification_report.sort_values(by=['f1-score'], ascending=False)\n",
    "        accuracy_F1 = df_classification_report[\"f1-score\"][\"weighted avg\"]\n",
    "        total_F1 += accuracy_F1\n",
    "\n",
    "        print(\"Partition: \", i, \"\\t1-E Accuracy: \", accuracy_1E, \"\\tF1-score (weighted avg): \", df_classification_report[\"f1-score\"][\"weighted avg\"])\n",
    "    average_accuracy_1E = total_1E / m_partitions\n",
    "    average_accuracy_F1 = total_F1 / m_partitions\n",
    "    print(\"Average 1-E Accuracy: \", average_accuracy_1E)\n",
    "    print(\"Average F1-score (weighted avg) accuracy: \", average_accuracy_1E)\n"
   ]
  },
  {
   "cell_type": "code",
   "execution_count": 932,
   "metadata": {},
   "outputs": [
    {
     "name": "stdout",
     "output_type": "stream",
     "text": [
      "Dataset:  bank-marketing.csv\n",
      "Partition:  0 \t1-E Accuracy:  0.869757174392936 \tF1-score (weighted avg):  0.8507095257988332\n",
      "Partition:  1 \t1-E Accuracy:  0.8893805309734514 \tF1-score (weighted avg):  0.8703183938816734\n",
      "Partition:  2 \t1-E Accuracy:  0.8915929203539823 \tF1-score (weighted avg):  0.8760153110488978\n",
      "Partition:  3 \t1-E Accuracy:  0.8628318584070797 \tF1-score (weighted avg):  0.8393810448850381\n",
      "Partition:  4 \t1-E Accuracy:  0.8716814159292036 \tF1-score (weighted avg):  0.8442590936655259\n",
      "Partition:  5 \t1-E Accuracy:  0.9026548672566371 \tF1-score (weighted avg):  0.8879627447199069\n",
      "Partition:  6 \t1-E Accuracy:  0.9026548672566371 \tF1-score (weighted avg):  0.886873612975698\n",
      "Partition:  7 \t1-E Accuracy:  0.8960176991150443 \tF1-score (weighted avg):  0.8752521823885979\n",
      "Partition:  8 \t1-E Accuracy:  0.8938053097345132 \tF1-score (weighted avg):  0.8804647313739757\n",
      "Partition:  9 \t1-E Accuracy:  0.8783185840707964 \tF1-score (weighted avg):  0.8592100500781867\n",
      "Average 1-E Accuracy:  0.8858695227490282\n",
      "Average F1-score (weighted avg) accuracy:  0.8858695227490282\n",
      "\n",
      "Dataset:  student.csv\n",
      "Partition:  0 \t1-E Accuracy:  0.26153846153846155 \tF1-score (weighted avg):  0.27278964068261724\n",
      "Partition:  1 \t1-E Accuracy:  0.3384615384615385 \tF1-score (weighted avg):  0.34060107116963306\n",
      "Partition:  2 \t1-E Accuracy:  0.36923076923076925 \tF1-score (weighted avg):  0.3777462745333002\n",
      "Partition:  3 \t1-E Accuracy:  0.3384615384615385 \tF1-score (weighted avg):  0.33918049561774255\n",
      "Partition:  4 \t1-E Accuracy:  0.49230769230769234 \tF1-score (weighted avg):  0.4972248803827751\n",
      "Partition:  5 \t1-E Accuracy:  0.3230769230769231 \tF1-score (weighted avg):  0.3072658628668859\n",
      "Partition:  6 \t1-E Accuracy:  0.2923076923076923 \tF1-score (weighted avg):  0.2704120879120879\n",
      "Partition:  7 \t1-E Accuracy:  0.38461538461538464 \tF1-score (weighted avg):  0.3664277751234273\n",
      "Partition:  8 \t1-E Accuracy:  0.4 \tF1-score (weighted avg):  0.3980725097567203\n",
      "Partition:  9 \t1-E Accuracy:  0.34375 \tF1-score (weighted avg):  0.3314369042695655\n",
      "Average 1-E Accuracy:  0.354375\n",
      "Average F1-score (weighted avg) accuracy:  0.354375\n",
      "\n",
      "Dataset:  obesity.csv\n",
      "Partition:  0 \t1-E Accuracy:  0.7688679245283019 \tF1-score (weighted avg):  0.7705397185576303\n",
      "Partition:  1 \t1-E Accuracy:  0.7440758293838863 \tF1-score (weighted avg):  0.7447657759258061\n",
      "Partition:  2 \t1-E Accuracy:  0.7867298578199052 \tF1-score (weighted avg):  0.7856341192071764\n",
      "Partition:  3 \t1-E Accuracy:  0.8151658767772512 \tF1-score (weighted avg):  0.8138163881699958\n",
      "Partition:  4 \t1-E Accuracy:  0.8056872037914692 \tF1-score (weighted avg):  0.8049435650765494\n",
      "Partition:  5 \t1-E Accuracy:  0.7630331753554502 \tF1-score (weighted avg):  0.7617829445436081\n",
      "Partition:  6 \t1-E Accuracy:  0.8056872037914692 \tF1-score (weighted avg):  0.8041892513426498\n",
      "Partition:  7 \t1-E Accuracy:  0.7440758293838863 \tF1-score (weighted avg):  0.7453197452446667\n",
      "Partition:  8 \t1-E Accuracy:  0.7535545023696683 \tF1-score (weighted avg):  0.75195737583237\n",
      "Partition:  9 \t1-E Accuracy:  0.7677725118483413 \tF1-score (weighted avg):  0.7649302634042467\n",
      "Average 1-E Accuracy:  0.7754649915049628\n",
      "Average F1-score (weighted avg) accuracy:  0.7754649915049628\n",
      "\n"
     ]
    }
   ],
   "source": [
    "m_partitions = 10\n",
    "\n",
    "for file in files:\n",
    "    print(\"Dataset: \", file)\n",
    "    cross_validation(file, m_partitions)\n",
    "    print()"
   ]
  },
  {
   "cell_type": "markdown",
   "metadata": {},
   "source": [
    "Provide your text answer to **Question 2** 100-150 words in this cell.\n",
    "\n",
    "From naive bayes classifier accuracy of each dataset:\n",
    "\n",
    "bank-marketing: 88.7%\n",
    "student: 48.4%\n",
    "obesity: 77.8%\n",
    "\n",
    "From question2, cross-fold evaluation\n",
    "\n",
    "bank-marketing: 86.3% ~ 90.3%   Avg: 88.6%\n",
    "student: 26.2% ~ 49.2%  Avg: 35.4%\n",
    "obesity: 74.4% ~ 81.5%  Avg: 77.5%\n",
    "\n",
    "From cross-fold evaluation (m = 10), bank-marketing's accuracy ranges from 86.3% to 90.3%, which matches to train on the whole dataset's accuracy 88.7%. Obesity's accuracy ranges from 74.4% to 81.5%, which matches to train on the whole dataset's accuracy 77.8%. The effectiveness does not change much whether train on whole set or using cross-fold, which indicate bias and variances are not much in those two dataset.\n",
    "\n",
    "In comparison, student data set prediction accuracy drops to 24.6% ~ 40.0%, from 48.4%. This indicates that a high amount of bias or variances are among dataset. By using naive bayes model training on the whole set, we overfitting the model, which doesn't reveal the real predication accuracy rate to new data."
   ]
  },
  {
   "cell_type": "markdown",
   "metadata": {},
   "source": [
    "## Question 3: Feature Selection and Naive Bayes Assumptions [3 marks]"
   ]
  },
  {
   "cell_type": "code",
   "execution_count": 933,
   "metadata": {},
   "outputs": [],
   "source": [
    "# Write additional code here, if necessary (you may insert additional code cells)\n",
    "\n",
    "from sklearn.feature_selection import mutual_info_classif\n",
    "from sklearn.model_selection import train_test_split\n",
    "from sklearn.preprocessing import LabelEncoder"
   ]
  },
  {
   "cell_type": "code",
   "execution_count": 934,
   "metadata": {},
   "outputs": [],
   "source": [
    "def mutual_information(filename):\n",
    "    train_data = pd.read_csv(filename)\n",
    "    # cat_cols = train_data.select_dtypes(include = [\"object\"]).columns\n",
    "    \n",
    "    # encode string to int\n",
    "    to_encode = train_data.copy()\n",
    "    for feature,value in to_encode.iteritems():\n",
    "        to_encode[feature] = LabelEncoder().fit_transform(value)\n",
    "    encoded_train_data = to_encode\n",
    "\n",
    "    # drop client ID & label\n",
    "    encoded_train_data_label = encoded_train_data[encoded_train_data.columns[-1]]\n",
    "    del encoded_train_data[encoded_train_data.columns.values[0]]\n",
    "    del encoded_train_data[encoded_train_data.columns.values[-1]]\n",
    "\n",
    "    mutual_info = mutual_info_classif(encoded_train_data, encoded_train_data_label, discrete_features=True)\n",
    "    mutual_info = pd.Series(mutual_info)\n",
    "    mutual_info.index = encoded_train_data.columns\n",
    "\n",
    "    return mutual_info\n"
   ]
  },
  {
   "cell_type": "code",
   "execution_count": 935,
   "metadata": {},
   "outputs": [],
   "source": [
    "# evaluate result from top half feature\n",
    "def result_select_top_half(top_half_index, filename):\n",
    "    train_data = pd.read_csv(filename)\n",
    "\n",
    "    # drop client ID & label\n",
    "    train_label = train_data[train_data.columns[-1]]\n",
    "    del train_data[train_data.columns.values[0]]\n",
    "    del train_data[train_data.columns.values[-1]]\n",
    "\n",
    "    for feature in train_data.columns:\n",
    "        if feature not in top_half_index:\n",
    "            del train_data[feature]\n",
    "\n",
    "    all_features = list(train_data.columns)\n",
    "    all_labels = np.unique(train_label)\n",
    "\n",
    "    features, unique_labels, label_priors, pred_priors, likelihoods = train(train_data, train_label, all_features, all_labels)\n",
    "\n",
    "    # Second, print the full evaluation results from the evaluate() function\n",
    "    to_predict = np.array(train_data)\n",
    "    results, results_probability = predict(to_predict, features, unique_labels, label_priors, pred_priors, likelihoods)\n",
    "    return evaluate(train_label, results)\n",
    "\n",
    "# evaluate result from bot half feature\n",
    "def result_delete_top_half(top_half_index, filename):\n",
    "    train_data = pd.read_csv(filename)\n",
    "\n",
    "    # drop client ID & label\n",
    "    train_label = train_data[train_data.columns[-1]]\n",
    "    del train_data[train_data.columns.values[0]]\n",
    "    del train_data[train_data.columns.values[-1]]\n",
    "\n",
    "    for feature in train_data.columns:\n",
    "        if feature in top_half_index:\n",
    "            del train_data[feature]\n",
    "\n",
    "    # print(train_data)\n",
    "    all_features = list(train_data.columns)\n",
    "    all_labels = np.unique(train_label)\n",
    "\n",
    "    features, unique_labels, label_priors, pred_priors, likelihoods = train(train_data, train_label, all_features, all_labels)\n",
    "\n",
    "    # Second, print the full evaluation results from the evaluate() function\n",
    "    to_predict = np.array(train_data)\n",
    "    results, results_probability = predict(to_predict, features, unique_labels, label_priors, pred_priors, likelihoods)\n",
    "    return evaluate(train_label, results)\n",
    "\n",
    "# evaluate result from all feature\n",
    "def result_all_feature(filename):\n",
    "    train_data, train_label, all_features, all_labels = preprocess(filename)\n",
    "    features, unique_labels, label_priors, pred_priors, likelihoods = train(train_data, train_label, all_features, all_labels)\n",
    "\n",
    "    # Second, print the full evaluation results from the evaluate() function\n",
    "    to_predict = np.array(train_data)\n",
    "    results, results_probability = predict(to_predict, features, unique_labels, label_priors, pred_priors, likelihoods)\n",
    "\n",
    "    return evaluate(train_label, results)"
   ]
  },
  {
   "cell_type": "code",
   "execution_count": 936,
   "metadata": {},
   "outputs": [
    {
     "data": {
      "text/plain": [
       "<AxesSubplot:>"
      ]
     },
     "execution_count": 936,
     "metadata": {},
     "output_type": "execute_result"
    },
    {
     "data": {
      "image/png": "[encoded data removed]",
      "text/plain": [
       "<Figure size 720x288 with 1 Axes>"
      ]
     },
     "metadata": {},
     "output_type": "display_data"
    }
   ],
   "source": [
    "filename = \"bank-marketing.csv\"\n",
    "mutual_info = mutual_information(filename)\n",
    "mutual_info.sort_values(ascending=False).plot.bar(figsize=(10, 4))"
   ]
  },
  {
   "cell_type": "code",
   "execution_count": 937,
   "metadata": {},
   "outputs": [
    {
     "name": "stdout",
     "output_type": "stream",
     "text": [
      "[0.8878566688785667, 0.8847600088476001, 0.8874142888741429]\n"
     ]
    },
    {
     "data": {
      "image/png": "[encoded data removed]",
      "text/plain": [
       "<Figure size 432x288 with 1 Axes>"
      ]
     },
     "metadata": {},
     "output_type": "display_data"
    }
   ],
   "source": [
    "import matplotlib.pyplot as plt\n",
    "top_half_index = mutual_info.sort_values(ascending=False).index[0:round(len(mutual_info)/2)]\n",
    "# print(top_half_index)\n",
    "select_half_result = result_select_top_half(top_half_index, filename)\n",
    "delete_half_result = result_delete_top_half(top_half_index, filename)\n",
    "all_feature_result = result_all_feature(filename)\n",
    "\n",
    "cat = ['select_top_half', 'delete_top_half', 'all_feature_result']\n",
    "score = [select_half_result, delete_half_result, all_feature_result]\n",
    "print(score)\n",
    "fig = plt.figure()\n",
    "ax = fig.add_axes([0,0,1,1])\n",
    "ax.bar(cat,score)\n",
    "plt.xlabel(\"top_half vs bot_half vs all feature\")\n",
    "plt.show()"
   ]
  },
  {
   "cell_type": "code",
   "execution_count": 938,
   "metadata": {},
   "outputs": [
    {
     "data": {
      "text/plain": [
       "<AxesSubplot:>"
      ]
     },
     "execution_count": 938,
     "metadata": {},
     "output_type": "execute_result"
    },
    {
     "data": {
      "image/png": "[encoded data removed]",
      "text/plain": [
       "<Figure size 720x288 with 1 Axes>"
      ]
     },
     "metadata": {},
     "output_type": "display_data"
    }
   ],
   "source": [
    "filename = \"student.csv\"\n",
    "mutual_info = mutual_information(filename)\n",
    "mutual_info.sort_values(ascending=False).plot.bar(figsize=(10, 4))"
   ]
  },
  {
   "cell_type": "code",
   "execution_count": 939,
   "metadata": {},
   "outputs": [
    {
     "name": "stdout",
     "output_type": "stream",
     "text": [
      "[0.4391371340523883, 0.3913713405238829, 0.48382126348228044]\n"
     ]
    },
    {
     "data": {
      "image/png": "[encoded data removed]",
      "text/plain": [
       "<Figure size 432x288 with 1 Axes>"
      ]
     },
     "metadata": {},
     "output_type": "display_data"
    }
   ],
   "source": [
    "top_half_index = mutual_info.sort_values(ascending=False).index[0:round(len(mutual_info)/2)]\n",
    "# print(top_half_index)\n",
    "select_half_result = result_select_top_half(top_half_index, filename)\n",
    "delete_half_result = result_delete_top_half(top_half_index, filename)\n",
    "all_feature_result = result_all_feature(filename)\n",
    "\n",
    "cat = ['select_top_half', 'delete_top_half', 'all_feature_result']\n",
    "score = [select_half_result, delete_half_result, all_feature_result]\n",
    "print(score)\n",
    "fig = plt.figure()\n",
    "ax = fig.add_axes([0,0,1,1])\n",
    "ax.bar(cat,score)\n",
    "plt.xlabel(\"top_half vs bot_half vs all feature\")\n",
    "plt.show()"
   ]
  },
  {
   "cell_type": "code",
   "execution_count": 940,
   "metadata": {},
   "outputs": [
    {
     "data": {
      "text/plain": [
       "<AxesSubplot:>"
      ]
     },
     "execution_count": 940,
     "metadata": {},
     "output_type": "execute_result"
    },
    {
     "data": {
      "image/png": "[encoded data removed]",
      "text/plain": [
       "<Figure size 720x288 with 1 Axes>"
      ]
     },
     "metadata": {},
     "output_type": "display_data"
    }
   ],
   "source": [
    "filename = \"obesity.csv\"\n",
    "mutual_info = mutual_information(filename)\n",
    "mutual_info.sort_values(ascending=False).plot.bar(figsize=(10, 4))"
   ]
  },
  {
   "cell_type": "code",
   "execution_count": 941,
   "metadata": {},
   "outputs": [
    {
     "name": "stdout",
     "output_type": "stream",
     "text": [
      "[0.7839886309805779, 0.6110847939365229, 0.7783041212695405]\n"
     ]
    },
    {
     "data": {
      "image/png": "[encoded data removed]",
      "text/plain": [
       "<Figure size 432x288 with 1 Axes>"
      ]
     },
     "metadata": {},
     "output_type": "display_data"
    }
   ],
   "source": [
    "top_half_index = mutual_info.sort_values(ascending=False).index[0:round(len(mutual_info)/2)]\n",
    "# print(top_half_index)\n",
    "select_half_result = result_select_top_half(top_half_index, filename)\n",
    "delete_half_result = result_delete_top_half(top_half_index, filename)\n",
    "all_feature_result = result_all_feature(filename)\n",
    "\n",
    "cat = ['select_top_half', 'delete_top_half', 'all_feature_result']\n",
    "score = [select_half_result, delete_half_result, all_feature_result]\n",
    "print(score)\n",
    "fig = plt.figure()\n",
    "ax = fig.add_axes([0,0,1,1])\n",
    "ax.bar(cat,score)\n",
    "plt.xlabel(\"top_half vs bot_half vs all feature\")\n",
    "plt.show()"
   ]
  },
  {
   "cell_type": "markdown",
   "metadata": {},
   "source": [
    "Provide your text answer to **Question 3.a** of 100-150 words in this cell.\n",
    "\n",
    "From obesity's mutual info bar chart, it is clear that [\"family_history_with_overweight\"] has a much high number than others, suggesting this feature is more related the class label. [\"smoke\"] and [\"gender\"] are very close to 0, suggesting that these two features have no relation to its class label.\n",
    "\n",
    "With this assumption, another bar chart, obesity's \"top_half vs bot_half vs all feature\" is shown above. It compares the accuracy rate from three train samples: \n",
    "    1) one sample that only keep the half top ranked feature in mutual info bar chart, \n",
    "    2) one sample that delete the half top ranked feature in mutual info bar chart, \n",
    "    3) and, the original sample.  \n",
    "the results are 0.784, 0.611, 0.778 respectively. \n",
    "\n",
    "\n",
    "\n",
    "In student's mutual info bar chart, it is clear that [\"failure\"] has a much high number than others, suggesting this feature is more related the class label. [\"famsupt\"] and [\"famsize\"] are very close to 0, suggesting that these two features have much less relation to its class label.\n",
    "\n",
    "With this assumption, another bar chart, student's \"top_half vs bot_half vs all feature\" is shown above. It compares the accuracy rate from three train samples: \n",
    "    1) one sample that only keep the half top ranked feature in mutual info bar chart, \n",
    "    2) one sample that delete the half top ranked feature in mutual info bar chart, \n",
    "    3) and, the original sample.  \n",
    "the results are 0.439, 0.391, 0.484 respectively. \n",
    "\n",
    "Both example proves that the features with higher mutual information score have higher influence in predicting correct, while features with lower mutual information score have lower influence in correct prediction. \n",
    "\n",
    "One use case of this is eliminating low mutual information score feature, so the computation power needed are less while the accuracy remain the same."
   ]
  },
  {
   "cell_type": "markdown",
   "metadata": {},
   "source": [
    "Provide your text answer to **Question 3.b** of 100-150 words in this cell.\n",
    "\n",
    "Why necessary:\n",
    "\n",
    "Naive bayes make an outrages assumption that each feature is independent to others, which is rarely happening in real life. This limits its applicability in real-word use, however it makes the needed computational power become much less, so we can have the predication result quickly in an affordable time. Without the \"naive\" process, some prediction could be infeasible. Also, it makes assumptions about data probability distribution (prior-belief), whether it is gaussian distribution or Bernoulli distribution, this assumption works well when train from small sample of data, but nevertheless, it is a manually-made assumption.\n",
    "\n",
    "When problematic:\n",
    "\n",
    "1) In naive bayes, a major assumption is that features are conditionally independent to each other. It can be problematic when two or more features are closely related to  each other. In this situation, those features are processed with high bias and the performance (accuracy) could be low for new data. \n",
    "   \n",
    "One example is that in student dataset, the accuracy for selecting high MI-score(mutual information) features dropped, compare to bank-marketing & obesity where the accuracy (for top MI-score features) remain the same level. This indicates that some features (in student dataset) in the low MI-score, are correlated to features with high MI-score. When calculating them together, the accuracy is 48.4%. However, we have proved that in cross-folding, the accuracy should be around 35.4%. Hence, this variance of performance is caused by feature dependency.\n",
    "\n",
    "2) Another example when naive bayes can be problematic is data probability distribution (prior-belief). In bank-marketing, the labels are 4000 to 521. By using naive bayes mode, we assumed that new data come in with have the same distribution as the training sample, but this is not a case that will hold true all the time. Vice versa, in obesity we assumed the distribution of obesity vs none-obesity is around 50-50, but in real life the numbers are different.\n",
    "\n",
    "3) It can also be problematic when the size of classes is big, or the number of categorical values of feature is high. For example, if taking clientID as one feature, the accuracy will be off by a lot. This problem is not shown in these test cases."
   ]
  },
  {
   "cell_type": "markdown",
   "metadata": {},
   "source": [
    "## Question 4: Feature Selection and Ethics [4 marks]"
   ]
  },
  {
   "cell_type": "code",
   "execution_count": 942,
   "metadata": {},
   "outputs": [
    {
     "name": "stdout",
     "output_type": "stream",
     "text": [
      "1-E Accuracy: 0.44684129429892144\n",
      "F-Score Accuracy:\n",
      "               precision    recall  f1-score   support\n",
      "\n",
      "           A      0.286     0.031     0.056        65\n",
      "          A+      0.200     0.059     0.091        17\n",
      "           B      0.371     0.438     0.402       112\n",
      "           C      0.412     0.500     0.452       154\n",
      "           D      0.478     0.547     0.510       201\n",
      "           F      0.580     0.510     0.543       100\n",
      "\n",
      "    accuracy                          0.447       649\n",
      "   macro avg      0.388     0.347     0.342       649\n",
      "weighted avg      0.433     0.447     0.426       649\n",
      "\n"
     ]
    }
   ],
   "source": [
    "# Write additional code here, if necessary (you may insert additional code cells)\n",
    "\n",
    "# ethic process student.csv file\n",
    "train_data = pd.read_csv(\"student.csv\")\n",
    "\n",
    "# drop client ID & label\n",
    "train_label = train_data[train_data.columns[-1]]\n",
    "del train_data[train_data.columns.values[0]]\n",
    "del train_data[train_data.columns.values[-1]]\n",
    "\n",
    "del train_data[\"sex\"]\n",
    "del train_data[\"address\"]\n",
    "del train_data[\"famsize\"]\n",
    "del train_data[\"Pstatus\"]\n",
    "del train_data[\"Medu\"]\n",
    "del train_data[\"Fedu\"]\n",
    "del train_data[\"Mjob\"]\n",
    "del train_data[\"Fjob\"]\n",
    "del train_data[\"guardian\"]\n",
    "del train_data[\"traveltime\"]\n",
    "del train_data[\"nursery\"]\n",
    "del train_data[\"internet\"]\n",
    "del train_data[\"romantic\"]\n",
    "del train_data[\"famrel\"]\n",
    "del train_data[\"freetime\"]\n",
    "del train_data[\"goout\"]\n",
    "del train_data[\"Dalc\"]\n",
    "del train_data[\"Walc\"]\n",
    "\n",
    "all_features = list(train_data.columns)\n",
    "all_labels = np.unique(train_label)\n",
    "\n",
    "features, unique_labels, label_priors, pred_priors, likelihoods = train(train_data, train_label, all_features, all_labels)\n",
    "\n",
    "# Second, print the full evaluation results from the evaluate() function\n",
    "to_predict = np.array(train_data)\n",
    "results, results_probability = predict(to_predict, features, unique_labels, label_priors, pred_priors, likelihoods)\n",
    "\n",
    "print(\"1-E Accuracy: {}\".format(evaluate(train_label, results)))\n",
    "print(\"F-Score Accuracy:\\n {}\".format(f_score_evaluate(train_label, results)))"
   ]
  },
  {
   "cell_type": "markdown",
   "metadata": {},
   "source": [
    "Provide your text answer to **Question 4.a** of 100-150 words in this cell.\n",
    "\n",
    "In consideration of admitting a student based on their predicted grade, it is not ethical to discriminate certain features with/without knowing if the feature could affect the prediction of grade. For example, sex should have not be selected as a feature in predication. Even if sex does cause a difference on prediction result, it should be excluded as it causes sexism. Similar reasons apply to address, parent status etc. Those features are out of candidates' control and they should cause no differences on predicting one's grade. Otherwise, it creates advantages/disadvantages to certain candidates which is not fair and not ethically correct.\n"
   ]
  },
  {
   "cell_type": "markdown",
   "metadata": {},
   "source": [
    "Provide your text answer to **Question 4.b** of 100-150 words in this cell.\n",
    "\n",
    "After removing unethical features [\"sex\"][\"address\"][\"Pstatus\"][\"Medu\"][\"Fedu\"][\"Mjob\"][\"Fjob\"][\"guardian\"][\"traveltime\"][\"internet\"]\n",
    "[\"romantic\"][\"famrel\"][\"freetime\"][\"nursery\"][\"freetime\"][\"goout\"][\"Dalc\"][\"Walc\"], the accuracy rate dropped form 48.4% to 44.7%.\n",
    "\n",
    "This indicates that those features do have an impact on predict one's grade, which means they cause some kine of bias or discrimination.Ethically, this should not be allowed. Even if it has an impact on prediction, we should eliminate it from our prediction."
   ]
  },
  {
   "cell_type": "markdown",
   "metadata": {},
   "source": [
    "Provide your text answer to **Question 4.c** of 100-150 words in this cell.\n",
    "\n",
    "Removing all problematic features cannot guarantee a fair classifier. Fairness is very difficult to justify. For example, some student come from a rich family that support her/his life and education. Although we could remove features such as [\"father job\"] [\"mother job\"], the impact of this feature could reach others such as [\"free time\"] [\"study time\"] (doesn't need to work part-time), or [\"school\"], which could affect one's grade. \n",
    "\n",
    "Another example, sex shouldn't affect us predicting the grades. However, in situation, women can be more/less compatible then men by educational choices along the way. In this situation, although the sex group size distribution of sample data are equal (50:50), it doesn't represent that in one subject, the amount of men with classified under one label is equal to the amount of women classified under the same label.\n",
    "\n",
    "And there is always data sample differences.\n",
    "\n",
    "That said, we have to accept a truth that everyone's different, and a true fairness is very difficult to reach in feature selection. Machine learning doesn't understand context, and the context of fairness is always complicated."
   ]
  },
  {
   "cell_type": "markdown",
   "metadata": {},
   "source": [
    "<b>Authorship Declaration</b>:\n",
    "\n",
    "   (1) I certify that the program contained in this submission is completely\n",
    "   my own individual work, except where explicitly noted by comments that\n",
    "   provide details otherwise.  I understand that work that has been developed\n",
    "   by another student, or by me in collaboration with other students,\n",
    "   or by non-students as a result of request, solicitation, or payment,\n",
    "   may not be submitted for assessment in this subject.  I understand that\n",
    "   submitting for assessment work developed by or in collaboration with\n",
    "   other students or non-students constitutes Academic Misconduct, and\n",
    "   may be penalized by mark deductions, or by other penalties determined\n",
    "   via the University of Melbourne Academic Honesty Policy, as described\n",
    "   at https://academicintegrity.unimelb.edu.au.\n",
    "\n",
    "   (2) I also certify that I have not provided a copy of this work in either\n",
    "   softcopy or hardcopy or any other form to any other student, and nor will\n",
    "   I do so until after the marks are released. I understand that providing\n",
    "   my work to other students, regardless of my intention or any undertakings\n",
    "   made to me by that other student, is also Academic Misconduct.\n",
    "\n",
    "   (3) I further understand that providing a copy of the assignment\n",
    "   specification to any form of code authoring or assignment tutoring\n",
    "   service, or drawing the attention of others to such services and code\n",
    "   that may have been made available via such a service, may be regarded\n",
    "   as Student General Misconduct (interfering with the teaching activities\n",
    "   of the University and/or inciting others to commit Academic Misconduct).\n",
    "   I understand that an allegation of Student General Misconduct may arise\n",
    "   regardless of whether or not I personally make use of such solutions\n",
    "   or sought benefit from such actions.\n",
    "\n",
    "   <b>Signed by</b>: Chaojun Tang 1323782\n",
    "   \n",
    "   <b>Dated</b>: 2th September 2022"
   ]
  },
  {
   "cell_type": "code",
   "execution_count": null,
   "metadata": {},
   "outputs": [],
   "source": []
  }
 ],
 "metadata": {
  "kernelspec": {
   "display_name": "Python 3.9.12 ('base')",
   "language": "python",
   "name": "python3"
  },
  "language_info": {
   "codemirror_mode": {
    "name": "ipython",
    "version": 3
   },
   "file_extension": ".py",
   "mimetype": "text/x-python",
   "name": "python",
   "nbconvert_exporter": "python",
   "pygments_lexer": "ipython3",
   "version": "3.9.12"
  },
  "vscode": {
   "interpreter": {
    "hash": "38cca0c38332a56087b24af0bc80247f4fced29cb4f7f437d91dc159adec9c4e"
   }
  }
 },
 "nbformat": 4,
 "nbformat_minor": 2
}
